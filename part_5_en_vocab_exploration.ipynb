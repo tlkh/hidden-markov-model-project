{
 "cells": [
  {
   "cell_type": "code",
   "execution_count": null,
   "metadata": {},
   "outputs": [],
   "source": [
    "import utils"
   ]
  },
  {
   "cell_type": "code",
   "execution_count": 2,
   "metadata": {},
   "outputs": [],
   "source": [
    "dataset_folder = \"data/EN/\"\n",
    "train_data = dataset_folder + \"train\"\n",
    "lines_1 = utils.read_file_to_lines(train_data)\n",
    "\n",
    "train_data = dataset_folder + \"dev.out\"\n",
    "lines_2 = utils.read_file_to_lines(train_data)\n",
    "\n",
    "# for final pass with test data\n",
    "\n",
    "train_data = \"data/TEST/EN/test.in\"\n",
    "lines_3 = utils.read_file_to_lines(train_data)\n",
    "\n",
    "lines = lines_1 + lines_2 + lines_3\n",
    "\n",
    "word_list = []\n",
    "\n",
    "while len(lines) > 1:\n",
    "    sentence_break = lines.index(\"\")\n",
    "    sentence_xy = lines[:sentence_break]\n",
    "    words = [token.split(\" \")[0].lower() for token in sentence_xy]\n",
    "    word_list += words\n",
    "    lines = lines[sentence_break+1:]\n",
    "    \n",
    "words = list(set(word_list))\n",
    "words.sort()"
   ]
  },
  {
   "cell_type": "code",
   "execution_count": 3,
   "metadata": {},
   "outputs": [
    {
     "name": "stdout",
     "output_type": "stream",
     "text": [
      "Vocab size: 259058\n"
     ]
    }
   ],
   "source": [
    "print(\"Vocab size:\", len(word_list))"
   ]
  },
  {
   "cell_type": "code",
   "execution_count": 4,
   "metadata": {},
   "outputs": [],
   "source": [
    "ignore_list = [\"1930\", \"3090\", '1950', '1960', '1970', '1980', '1990']\n",
    "ignore = False\n",
    "fix = []\n",
    "for word in words:\n",
    "    if len(word) > 4:\n",
    "        for i in ignore_list:\n",
    "            if i in word:\n",
    "                ignore = True\n",
    "        if ignore:\n",
    "            ignore = False\n",
    "            continue\n",
    "        if word[-1] == \"s\" and word[:-1] in words:\n",
    "            fix.append(word[:-1])\n",
    "        elif word[-1] == \"d\":\n",
    "            if word[:-1] in words:\n",
    "                fix.append(word[:-1])\n",
    "            if word[:-2] in words:\n",
    "                fix.append(word[:-2])\n",
    "        elif word[-3:] == \"ing\":\n",
    "            test_word = word[:-3]\n",
    "            if test_word in words:\n",
    "                fix.append(test_word)\n",
    "            test_word = word[:-3] + \"e\"\n",
    "            if test_word in words:\n",
    "                fix.append(test_word)"
   ]
  },
  {
   "cell_type": "code",
   "execution_count": 5,
   "metadata": {},
   "outputs": [],
   "source": [
    "fix = list(set(fix))\n",
    "fix.sort()"
   ]
  },
  {
   "cell_type": "code",
   "execution_count": 6,
   "metadata": {},
   "outputs": [
    {
     "name": "stdout",
     "output_type": "stream",
     "text": [
      "Lower vocab_size 2355\n"
     ]
    }
   ],
   "source": [
    "print(\"Lower vocab_size\", len(fix))"
   ]
  },
  {
   "cell_type": "code",
   "execution_count": 7,
   "metadata": {},
   "outputs": [],
   "source": [
    "#print(fix)"
   ]
  },
  {
   "cell_type": "code",
   "execution_count": 8,
   "metadata": {},
   "outputs": [],
   "source": [
    "#\"\"\"\n",
    "outfile = \"./en_words_wtest.txt\"\n",
    "\n",
    "with open(outfile, \"w\") as f:\n",
    "    for word in fix:\n",
    "        f.write(word + \"\\n\")\n",
    "#\"\"\""
   ]
  },
  {
   "cell_type": "code",
   "execution_count": null,
   "metadata": {},
   "outputs": [],
   "source": []
  }
 ],
 "metadata": {
  "kernelspec": {
   "display_name": "Python 3",
   "language": "python",
   "name": "python3"
  },
  "language_info": {
   "codemirror_mode": {
    "name": "ipython",
    "version": 3
   },
   "file_extension": ".py",
   "mimetype": "text/x-python",
   "name": "python",
   "nbconvert_exporter": "python",
   "pygments_lexer": "ipython3",
   "version": "3.6.9"
  }
 },
 "nbformat": 4,
 "nbformat_minor": 4
}
