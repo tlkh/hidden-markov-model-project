{
 "cells": [
  {
   "cell_type": "code",
   "execution_count": 1,
   "metadata": {},
   "outputs": [],
   "source": [
    "import utils\n",
    "import emission\n",
    "import transition\n",
    "import viterbi\n",
    "\n",
    "import copy\n",
    "from random import randint, choice\n",
    "import numpy as np"
   ]
  },
  {
   "cell_type": "code",
   "execution_count": 2,
   "metadata": {},
   "outputs": [],
   "source": [
    "LOWER = True\n",
    "NORM_TENSE = True\n",
    "REP_NUM = True\n",
    "REP_YEAR = False\n",
    "REP_SYM = True"
   ]
  },
  {
   "cell_type": "code",
   "execution_count": 3,
   "metadata": {},
   "outputs": [],
   "source": [
    "dataset_folder = \"data/EN/\"\n",
    "train_data = dataset_folder + \"train\"\n",
    "lines = utils.read_file_to_lines(train_data)\n",
    "\n",
    "eval_data = dataset_folder + \"dev.out\"\n",
    "lines_2 = utils.read_file_to_lines(eval_data)\n",
    "\n",
    "lines += lines_2"
   ]
  },
  {
   "cell_type": "code",
   "execution_count": 4,
   "metadata": {},
   "outputs": [
    {
     "name": "stdout",
     "output_type": "stream",
     "text": [
      "Vocab size: 7443\n"
     ]
    }
   ],
   "source": [
    "emission_data = emission.generate_emission_table(lines,\n",
    "                                                 lower=LOWER,\n",
    "                                                 norm_tense=NORM_TENSE,\n",
    "                                                 replace_number=REP_NUM,\n",
    "                                                 replace_year=REP_YEAR,\n",
    "                                                 replace_symbol=REP_SYM)\n",
    "hashmap = emission_data[\"x_hashmap\"]\n",
    "word_freq = emission_data[\"x_word_freq\"]\n",
    "smoothed_hashmap = utils.add_unk(hashmap, word_freq, k=2)\n",
    "emission_data[\"x_hashmap\"] = smoothed_hashmap\n",
    "\n",
    "x_vocab = utils.get_emission_vocab(smoothed_hashmap)\n",
    "print(\"Vocab size:\", len(x_vocab))"
   ]
  },
  {
   "cell_type": "code",
   "execution_count": 5,
   "metadata": {},
   "outputs": [],
   "source": [
    "transition_pairs = transition.generate_transition_pairs(lines)"
   ]
  },
  {
   "cell_type": "code",
   "execution_count": 6,
   "metadata": {},
   "outputs": [],
   "source": [
    "y_pairs = transition_pairs[\"Y_pairs\"]\n",
    "y_vocab = transition_pairs[\"y_vocab\"]\n",
    "y_freq = transition_pairs[\"y_freq\"]"
   ]
  },
  {
   "cell_type": "code",
   "execution_count": 7,
   "metadata": {},
   "outputs": [],
   "source": [
    "transition_data = transition.generate_transition_data(y_pairs, y_vocab)"
   ]
  },
  {
   "cell_type": "code",
   "execution_count": 8,
   "metadata": {},
   "outputs": [],
   "source": [
    "hmm = viterbi.HMM()\n",
    "hmm.fit_word_tokenizer(x_vocab)\n",
    "hmm.fit_pos_tokenizer(y_vocab)\n",
    "hmm.build_transition_weights(y_freq, transition_data)\n",
    "hmm.build_emission_weights(emission_data)"
   ]
  },
  {
   "cell_type": "code",
   "execution_count": 9,
   "metadata": {},
   "outputs": [],
   "source": [
    "train_data = \"data/TEST/EN/test.in\"\n",
    "lines = utils.read_file_to_lines(train_data)\n",
    "\n",
    "sentences = []\n",
    "\n",
    "while len(lines) > 1:\n",
    "    sentence_break = lines.index(\"\")\n",
    "    sentence_xy = lines[:sentence_break]\n",
    "    words = [utils.preprocess_text(token,\n",
    "                                   lower=LOWER,\n",
    "                                   norm_tense=NORM_TENSE,\n",
    "                                   replace_number=REP_NUM,\n",
    "                                   replace_year=REP_YEAR,\n",
    "                                   replace_symbol=REP_SYM)\n",
    "             for token in sentence_xy]\n",
    "    sentence = \" \".join(words).strip()\n",
    "    sentences.append(sentence)\n",
    "    lines = lines[sentence_break+1:]"
   ]
  },
  {
   "cell_type": "code",
   "execution_count": 10,
   "metadata": {},
   "outputs": [
    {
     "name": "stdout",
     "output_type": "stream",
     "text": [
      "New words 2165\n"
     ]
    }
   ],
   "source": [
    "new_words = []\n",
    "\n",
    "for line in sentences:\n",
    "    for word in line.split(\" \"):\n",
    "        if word not in x_vocab:\n",
    "            new_words.append(word)\n",
    "        \n",
    "new_words = list(set(new_words))\n",
    "new_words.sort()\n",
    "print(\"New words\", len(new_words))"
   ]
  },
  {
   "cell_type": "code",
   "execution_count": 11,
   "metadata": {},
   "outputs": [
    {
     "name": "stderr",
     "output_type": "stream",
     "text": [
      "  0%|          | 0/2189 [00:00<?, ?it/s]"
     ]
    }
   ],
   "source": [
    "# only for the progress bar!\n",
    "try:\n",
    "    from tqdm import tqdm\n",
    "    USE_TQDM = True\n",
    "except Exception as e:\n",
    "    print(e, \"TQDM import error, disable progress bar\")\n",
    "\n",
    "if USE_TQDM:\n",
    "    sentences_it = tqdm(sentences)\n",
    "else:\n",
    "    sentences_it = sentences"
   ]
  },
  {
   "cell_type": "code",
   "execution_count": 12,
   "metadata": {},
   "outputs": [
    {
     "name": "stderr",
     "output_type": "stream",
     "text": [
      "100%|██████████| 2189/2189 [00:47<00:00, 46.41it/s]\n"
     ]
    }
   ],
   "source": [
    "preds = []\n",
    "\n",
    "for line in sentences_it:\n",
    "    pred = hmm.viterbi_predict(line)\n",
    "    pred = hmm.pos_tokens_to_labels(pred)\n",
    "    preds.append(pred)\n",
    "    \n",
    "assert len(sentences) == len(preds)"
   ]
  },
  {
   "cell_type": "code",
   "execution_count": 13,
   "metadata": {},
   "outputs": [],
   "source": [
    "train_data = \"data/TEST/EN/test.in\"\n",
    "lines = utils.read_file_to_lines(train_data)\n",
    "\n",
    "og_sentences = []\n",
    "\n",
    "while len(lines) > 1:\n",
    "    sentence_break = lines.index(\"\")\n",
    "    sentence_xy = lines[:sentence_break]\n",
    "    words = [token.strip()\n",
    "             for token in sentence_xy]\n",
    "    sentence = \" \".join(words).strip()\n",
    "    og_sentences.append(sentence)\n",
    "    lines = lines[sentence_break+1:]"
   ]
  },
  {
   "cell_type": "code",
   "execution_count": 14,
   "metadata": {},
   "outputs": [],
   "source": [
    "outfile = \"data/TEST/EN/test.out\"\n",
    "\n",
    "with open(outfile, \"w\") as f:\n",
    "    for sentence, pred in zip(og_sentences, preds):\n",
    "        word_array = sentence.split(\" \")\n",
    "        try:\n",
    "            assert len(word_array) == len(pred)\n",
    "            for i, word in enumerate(word_array):\n",
    "                f.write(word + \" \" + pred[i] +\"\\n\")\n",
    "        except:\n",
    "            print(word_array)\n",
    "            print(pred)\n",
    "            break\n",
    "        f.write(\"\\n\")"
   ]
  },
  {
   "cell_type": "code",
   "execution_count": null,
   "metadata": {},
   "outputs": [],
   "source": []
  }
 ],
 "metadata": {
  "kernelspec": {
   "display_name": "Python 3",
   "language": "python",
   "name": "python3"
  },
  "language_info": {
   "codemirror_mode": {
    "name": "ipython",
    "version": 3
   },
   "file_extension": ".py",
   "mimetype": "text/x-python",
   "name": "python",
   "nbconvert_exporter": "python",
   "pygments_lexer": "ipython3",
   "version": "3.6.9"
  }
 },
 "nbformat": 4,
 "nbformat_minor": 4
}
