{
 "cells": [
  {
   "cell_type": "code",
   "execution_count": 1,
   "metadata": {},
   "outputs": [],
   "source": [
    "import utils"
   ]
  },
  {
   "cell_type": "code",
   "execution_count": 2,
   "metadata": {},
   "outputs": [],
   "source": [
    "dataset_folder = \"data/EN/\"\n",
    "train_data = dataset_folder + \"train\"\n",
    "lines_1 = utils.read_file_to_lines(train_data)\n",
    "\n",
    "train_data = dataset_folder + \"dev.out\"\n",
    "lines_2 = utils.read_file_to_lines(train_data)\n",
    "\n",
    "lines = lines_1 + lines_2\n",
    "\n",
    "word_list = []\n",
    "\n",
    "while len(lines) > 1:\n",
    "    sentence_break = lines.index(\"\")\n",
    "    sentence_xy = lines[:sentence_break]\n",
    "    words = [token.split(\" \")[0].lower() for token in sentence_xy]\n",
    "    word_list += words\n",
    "    lines = lines[sentence_break+1:]\n",
    "    \n",
    "words = list(set(word_list))\n",
    "words.sort()"
   ]
  },
  {
   "cell_type": "code",
   "execution_count": 3,
   "metadata": {},
   "outputs": [
    {
     "name": "stdout",
     "output_type": "stream",
     "text": [
      "Vocab size: 207759\n"
     ]
    }
   ],
   "source": [
    "print(\"Vocab size:\", len(word_list))"
   ]
  },
  {
   "cell_type": "code",
   "execution_count": 4,
   "metadata": {},
   "outputs": [],
   "source": [
    "ignore_list = [\"1930\", \"3090\", '1950', '1960', '1970', '1980', '1990']\n",
    "ignore = False\n",
    "fix = []\n",
    "for word in words:\n",
    "    if len(word) > 4:\n",
    "        for i in ignore_list:\n",
    "            if i in word:\n",
    "                ignore = True\n",
    "        if ignore:\n",
    "            ignore = False\n",
    "            continue\n",
    "        if word[-1] == \"s\" and word[:-1] in words:\n",
    "            fix.append(word[:-1])\n",
    "        elif word[-1] == \"d\":\n",
    "            if word[:-1] in words:\n",
    "                fix.append(word[:-1])\n",
    "            if word[:-2] in words:\n",
    "                fix.append(word[:-2])\n",
    "        elif word[-3:] == \"ing\":\n",
    "            test_word = word[:-3]\n",
    "            if test_word in words:\n",
    "                fix.append(test_word)\n",
    "            test_word = word[:-3] + \"e\"\n",
    "            if test_word in words:\n",
    "                fix.append(test_word)"
   ]
  },
  {
   "cell_type": "code",
   "execution_count": 5,
   "metadata": {},
   "outputs": [],
   "source": [
    "fix = list(set(fix))\n",
    "fix.sort()"
   ]
  },
  {
   "cell_type": "code",
   "execution_count": 6,
   "metadata": {},
   "outputs": [
    {
     "name": "stdout",
     "output_type": "stream",
     "text": [
      "Lower vocab_size 2111\n"
     ]
    }
   ],
   "source": [
    "print(\"Lower vocab_size\", len(fix))"
   ]
  },
  {
   "cell_type": "code",
   "execution_count": 7,
   "metadata": {},
   "outputs": [
    {
     "name": "stdout",
     "output_type": "stream",
     "text": [
      "['abandon', 'abortion', 'abrasive', 'absorb', 'abuse', 'accelerate', 'accept', 'acceptance', 'accompany', 'accomplish', 'accord', 'account', 'accountant', 'accumulate', 'achieve', 'achievement', 'acquire', 'acquirer', 'acquisition', 'act', 'action', 'activist', 'adam', 'add', 'addition', 'address', 'adjudicator', 'adjust', 'adjustment', 'administration', 'admission', 'adopt', 'advance', 'advancer', 'advantage', 'advertiser', 'advise', 'adviser', 'advisor', 'advocate', 'affair', 'affect', 'affidavit', 'affiliate', 'afghan', 'afrikaner', 'aftershock', 'afterward', 'ag', 'age', 'agent', 'agree', 'agreement', 'aid', 'aide', 'aim', 'airline', 'airport', 'alamo', 'alarm', 'alert', 'allege', 'alleviate', 'allocate', 'allocation', 'allow', 'allure', 'alter', 'alternative', 'amendment', 'america', 'american', 'amount', 'analyst', 'analyze', 'angel', 'anger', 'animal', 'announce', 'announcement', 'answer', 'anticipate', 'apartment', 'appeal', 'appear', 'appearance', 'appliance', 'application', 'apply', 'appoint', 'appointment', 'appraisal', 'appreciate', 'approach', 'appropriate', 'approval', 'approve', 'arbitrage', 'arch', 'architect', 'area', 'argue', 'argument', 'arise', 'arm', 'armenian', 'arrange', 'arrangement', 'arrest', 'arrive', 'article', 'artist', 'asian', 'ask', 'aspect', 'assassinate', 'assassination', 'assemble', 'assess', 'assessment', 'asset', 'assist', 'associate', 'association', 'assume', 'assumption', 'assurance', 'attach', 'attack', 'attempt', 'attend', 'attitude', 'attorney', 'attract', 'attribute', 'auction', 'audience', 'audit', 'auditor', 'author', 'authorization', 'authorize', 'auto', 'auto-emission', 'autograph', 'automobile', 'avenue', 'average', 'avoid', 'await', 'award', 'back', 'backer', 'background', 'bailout', 'baker', 'balance', 'balk', 'ball', 'bank', 'banker', 'bargain', 'barrel', 'barrier', 'base', 'battle', 'be', 'bear', 'bearing', 'beat', 'become', 'bee', 'beef', 'beer', 'begin', 'beginning', 'behave', 'belief', 'believe', 'bell', 'bellwether', 'belong', 'bend', 'benefit', 'beside', 'beta', 'bicycle', 'bidder', 'bike', 'biker', 'bill', 'billing', 'billion', 'bind', 'birth', 'black', 'blame', 'blanket', 'blaze', 'block', 'blow', 'blue', 'blue-chip', 'blunt', 'board', 'boat', 'bolster', 'bombing', 'bond', 'book', 'boom', 'boost', 'booth', 'border', 'bore', 'borrow', 'borrower', 'borrowing', 'bother', 'bottle', 'bottom', 'bounce', 'bow', 'brand', 'breach', 'break', 'breath', 'breed', 'brew', 'brewer', 'bribe', 'brick', 'bridge', 'brief', 'bring', 'broadcast', 'brochure', 'broker', 'brokerage', 'brother', 'buck', 'buckle', 'budge', 'budget', 'buffet', 'build', 'builder', 'building', 'bulgarian', 'bull', 'bulletin', 'bump', 'bumper', 'burden', 'bureau', 'burst', 'bushel', 'buy', 'buy-back', 'buy-out', 'buyer', 'buyout', 'cabinet', 'cable', 'cache', 'calculation', 'call', 'cambodian', 'camera', 'campaign', 'cancel', 'candidate', 'capitalist', 'capitalize', 'capture', 'card', 'care', 'carolina', 'carrier', 'carry', 'cartoon', 'cartridge', 'case', 'casino', 'cast', 'catalog', 'catastrophe', 'catch', 'cause', 'caution', 'cave', 'cease', 'cede', 'cell', 'center', 'certificate', 'chain', 'challenge', 'chamber', 'champion', 'chance', 'change', 'channel', 'chao', 'chapter', 'character', 'characterize', 'charge', 'charter', 'chase', 'cheat', 'check', 'chemical', 'chemist', 'chi', 'chicken', 'chill', 'chip', 'choice', 'choose', 'christian', 'chunk', 'cigarette', 'circuit', 'cit', 'cite', 'citizen', 'claim', 'clean', 'clear', 'clearance', 'client', 'cliff', 'climb', 'clinic', 'clobber', 'close', 'closing', 'cloth', 'cloud', 'club', 'clue', 'co-author', 'co-sponsor', 'coat', 'code', 'coin', 'collapse', 'collect', 'collection', 'collector', 'college', 'color', 'column', 'columnist', 'combat', 'combine', 'come', 'comfort', 'command', 'commend', 'comment', 'commercial', 'commission', 'commissioner', 'commit', 'commitment', 'committee', 'common', 'communist', 'commuter', 'compare', 'comparison', 'compete', 'competitor', 'complain', 'complaint', 'complete', 'complicate', 'component', 'composite', 'compound', 'comprise', 'compromise', 'compute', 'computer', 'comrade', 'concede', 'concentrate', 'concern', 'concert', 'conclude', 'condition', 'condominium', 'conduct', 'confer', 'confirm', 'conflict', 'conn', 'connect', 'conscript', 'consent', 'consequence', 'conservative', 'consider', 'consideration', 'consist', 'consolidate', 'constituent', 'construction', 'consult', 'consultant', 'consume', 'consumer', 'contact', 'contain', 'container', 'contend', 'contention', 'contest', 'continue', 'contra', 'contract', 'contractor', 'contrast', 'contribute', 'contribution', 'control', 'convene', 'conversation', 'convert', 'convict', 'conviction', 'convince', 'cook', 'cookie', 'cool', 'coordinate', 'cope', 'copy', 'corn', 'corner', 'corp', 'corporate', 'corporation', 'corridor', 'cosmetic', 'cost', 'cottage', 'counsel', 'count', 'counterpart', 'coup', 'coupe', 'couple', 'coupon', 'course', 'court', 'cover', 'cowboy', 'crack', 'craft', 'crank', 'crash', 'create', 'credit', 'creditor', 'crest', 'crevasse', 'crew', 'crime', 'criminal', 'critic', 'criticism', 'crook', 'crop', 'cross', 'crosse', 'crowd', 'crush', 'cuban', 'culture', 'curb', 'curtail', 'custom', 'customer', 'cycle', 'cyclist', 'damage', 'dance', 'danger', 'daniel', 'dare', 'dash', 'date', 'daughter', 'deadline', 'deal', 'dealer', 'dealership', 'dealing', 'death', 'debate', 'debenture', 'debt', 'decade', 'decide', 'decision', 'declaration', 'declare', 'decline', 'decrease', 'deduct', 'deduction', 'deem', 'default', 'defeat', 'defend', 'defendant', 'defense', 'deficit', 'definition', 'degree', 'delay', 'delegate', 'delinquent', 'deliver', 'demand', 'democrat', 'demonstrate', 'demonstration', 'department', 'departure', 'depend', 'dependent', 'depict', 'deposit', 'depress', 'deprive', 'derivative', 'describe', 'deserve', 'design', 'designate', 'desk', 'destination', 'destroy', 'detail', 'detect', 'detergent', 'deteriorate', 'determine', 'develop', 'developer', 'development', 'deviation', 'device', 'devise', 'devote', 'dial', 'dictate', 'dictator', 'differ', 'difference', 'diminish', 'diplomat', 'direct', 'director', 'disadvantage', 'disagree', 'disappear', 'disappoint', 'disappointment', 'disarm', 'disaster', 'discard', 'discipline', 'disclose', 'disclosure', 'discontinue', 'discount', 'discover', 'discuss', 'discussion', 'disk', 'dislike', 'dislocation', 'disparage', 'dispatch', 'display', 'disposal', 'dispose', 'dispute', 'disregard', 'disrupt', 'disruption', 'dissident', 'dissipate', 'dissociate', 'distance', 'distract', 'distribute', 'distribution', 'distributor', 'district', 'disturb', 'dive', 'diversification', 'diversify', 'diversion', 'divert', 'divest', 'divide', 'dividend', 'division', 'do', 'doctor', 'document', 'doe', 'dollar', 'dominate', 'dona', 'donate', 'donation', 'donor', 'door', 'double', 'doubt', 'down', 'downgrade', 'dozen', 'draft', 'drag', 'draw', 'drawing', 'dream', 'dress', 'drill', 'drink', 'drive', 'driver', 'drop', 'drug', 'dump', 'durable', 'dust', 'dynamic', 'earmark', 'earn', 'earning', 'earthquake', 'ease', 'economic', 'economist', 'edge', 'edition', 'editor', 'edward', 'effect', 'effort', 'elect', 'election', 'electronic', 'element', 'elephant', 'eliminate', 'embrace', 'emerge', 'empire', 'employee', 'employer', 'enable', 'enact', 'encounter', 'encourage', 'end', 'enforce', 'engage', 'engine', 'engineer', 'enhance', 'enhancement', 'enjoy', 'enter', 'enterprise', 'enthusiast', 'entice', 'environment', 'episode', 'equal', 'equip', 'equivalent', 'erase', 'erode', 'error', 'erupt', 'escape', 'escrow', 'essay', 'essential', 'establish', 'establishment', 'estimate', 'european', 'evaluate', 'evaluation', 'evan', 'even', 'event', 'exaggerate', 'examine', 'example', 'exceed', 'exception', 'exchange', 'exclude', 'exclusion', 'execute', 'executive', 'exempt', 'exemption', 'exercise', 'exhibit', 'exile', 'exist', 'expand', 'expansion', 'expect', 'expedite', 'expenditure', 'expense', 'experience', 'experiment', 'expert', 'expiration', 'expire', 'explain', 'exploit', 'explore', 'export', 'expose', 'express', 'expression', 'extend', 'extension', 'extort', 'extreme', 'eyeball', 'face', 'facing', 'facsimile', 'fact', 'factor', 'fad', 'fade', 'fail', 'failure', 'fake', 'fall', 'fame', 'far', 'fare', 'farm', 'farmer', 'fatten', 'fault', 'favor', 'favorite', 'fear', 'feature', 'feed', 'feedlot', 'feel', 'feeling', 'fellow', 'fertilizer', 'field', 'fight', 'fighter', 'figure', 'file', 'filing', 'fill', 'film', 'final', 'finance', 'financier', 'financing', 'find', 'finding', 'fine', 'finger', 'finish', 'fire', 'firm', 'fix', 'flag', 'flashlight', 'fleet', 'flight', 'flood', 'floor', 'fluctuation', 'fly', 'focus', 'foil', 'folk', 'follow', 'food', 'force', 'forecast', 'forest', 'form', 'fortune', 'forward', 'foster', 'found', 'foundation', 'founder', 'fragment', 'frame', 'franc', 'franchise', 'franchisee', 'franchiser', 'fraud', 'free', 'freedom', 'friday', 'friend', 'fuel', 'fulfill', 'function', 'fund', 'fund-raiser', 'fundamental', 'funnel', 'furrier', 'further', 'future', 'gain', 'galvanize', 'gamble', 'game', 'gap', 'garden', 'garment', 'gasoline', 'gate', 'gear', 'generate', 'generation', 'generator', 'genetic', 'german', 'giant', 'gift', 'give', 'go', 'goal', 'good', 'gorilla', 'govern', 'government', 'governor', 'grab', 'grade', 'graduate', 'grain', 'grant', 'green', 'grievance', 'grip', 'ground', 'group', 'grow', 'guarantee', 'guard', 'guerrilla', 'guess', 'guide', 'guideline', 'habit', 'hall', 'halt', 'hand', 'handle', 'hang', 'happen', 'harbor', 'hardship', 'harm', 'hat', 'hatch', 'hate', 'have', 'haven', 'hazard', 'head', 'hear', 'hearing', 'heart', 'heat', 'hedge', 'heighten', 'helm', 'help', 'herd', 'high', 'high-yield', 'highway', 'hiker', 'hill', 'hinder', 'hint', 'hire', 'hispanic', 'hoa', 'hold', 'holder', 'holding', 'hole', 'holiday', 'home', 'homeowner', 'homosexual', 'honduran', 'hope', 'horizon', 'hose', 'hospital', 'hospitalization', 'host', 'hotel', 'hour', 'house', 'household', 'housing', 'human', 'hundred', 'hunt', 'hunter', 'hurdle', 'hurricane', 'hurt', 'hybrid', 'idea', 'identify', 'idle', 'ignore', 'illustrate', 'illustration', 'image', 'implement', 'implication', 'import', 'impose', 'impress', 'imprison', 'improve', 'improvement', 'incentive', 'include', 'income', 'incorporate', 'increase', 'increment', 'incumbent', 'independent', 'index', 'indexer', 'indian', 'indicate', 'indication', 'indicator', 'indict', 'indictment', 'individual', 'industrial', 'industrie', 'inflate', 'inflow', 'influence', 'inform', 'initial', 'initiate', 'initiative', 'inject', 'injunction', 'injure', 'inmate', 'innovation', 'insist', 'inspect', 'inspector', 'install', 'installation', 'instance', 'institution', 'instruction', 'instrument', 'insure', 'insurer', 'integrate', 'intellectual', 'intend', 'intention', 'interest', 'interior', 'interpret', 'interpretation', 'intervene', 'interview', 'introduce', 'introduction', 'invest', 'investigate', 'investigation', 'investigator', 'investment', 'investor', 'invitation', 'invite', 'involve', 'island', 'issue', 'issuer', 'item', 'jacket', 'jaguar', 'jean', 'jeopardize', 'jetliner', 'john', 'join', 'journal', 'journalist', 'judge', 'judgment', 'juggle', 'jump', 'keep', 'kick', 'kill', 'killer', 'killing', 'kind', 'king', 'knock', 'know', 'label', 'laborer', 'lack', 'lake', 'land', 'landscape', 'laptop', 'last', 'launch', 'launder', 'lawmaker', 'lawn', 'lawsuit', 'lawyer', 'lay', 'lead', 'leader', 'lean', 'leap', 'learn', 'lease', 'leather', 'leave', 'leftist', 'legislator', 'legislature', 'lend', 'lender', 'leona', 'lesson', 'letter', 'level', 'leverage', 'libel', 'liberal', 'liberalization', 'license', 'lieutenant', 'lift', 'light', 'like', 'limit', 'lin', 'line', 'linger', 'link', 'lip', 'liquidate', 'list', 'listen', 'listing', 'live', 'lloyd', 'load', 'loan', 'lobby', 'lobbyist', 'locale', 'locate', 'location', 'lock', 'logo', 'long', 'look', 'loom', 'loosen', 'los', 'lose', 'loser', 'love', 'lower', 'lull', 'lure', 'machine', 'magazine', 'mail', 'mailing', 'main', 'mainframe', 'maintain', 'maitre', 'make', 'maker', 'male', 'manage', 'management', 'manager', 'mandate', 'maneuver', 'manufacture', 'manufacturer', 'march', 'margin', 'mark', 'market', 'market-maker', 'marketer', 'mason', 'master', 'match', 'material', 'matter', 'mature', 'maxim', 'mayor', 'mean', 'measure', 'measurement', 'mechanism', 'medicine', 'medium-size', 'meet', 'meeting', 'member', 'memo', 'mention', 'merge', 'merger', 'mess', 'message', 'metal', 'method', 'microprocessor', 'middle', 'mile', 'mill', 'million', 'mind', 'mine', 'mineral', 'minicomputer', 'minister', 'minute', 'misinterpret', 'misrepresentation', 'miss', 'missile', 'mistake', 'mix', 'mode', 'model', 'moderate', 'moment', 'monday', 'monitor', 'monopolize', 'month', 'moon', 'morning', 'mortgage', 'mother', 'motion', 'motivate', 'motor', 'mount', 'mouth', 'move', 'movement', 'movie', 'multinational', 'multiple', 'municipal', 'murder', 'murderer', 'mute', 'name', 'narrow', 'nation', 'nature', 'near', 'neck', 'need', 'negative', 'negotiate', 'negotiation', 'neighbor', 'neighborhood', 'network', 'neutron', 'newsletter', 'newspaper', 'niche', 'nickname', 'night', 'nine-month', 'no-load', 'non-communist', 'nose', 'not', 'note', 'notice', 'notify', 'notion', 'novel', 'nozzle', 'number', 'objective', 'observe', 'observer', 'obtain', 'occasion', 'occur', 'off', 'offer', 'offering', 'office', 'officer', 'official', 'omission', 'ooze', 'open', 'opening', 'operate', 'operation', 'operative', 'operator', 'opinion', 'opponent', 'oppose', 'opt', 'option', 'order', 'organization', 'organize', 'originate', 'other', 'ounce', 'oust', 'outfit', 'outlay', 'outlook', 'outperform', 'overhaul', 'overrun', 'oversee', 'overstate', 'overthrow', 'overturn', 'own', 'owner', 'pacemaker', 'pack', 'package', 'page', 'paint', 'painting', 'pal', 'pale', 'palm', 'paper', 'par', 'parachute', 'parent', 'park', 'part', 'participant', 'participate', 'partner', 'partnership', 'pass', 'passenger', 'patent', 'path', 'patient', 'pattern', 'pay', 'payable', 'payment', 'payroll', 'peak', 'peake', 'pedal', 'peddle', 'pencil', 'pension', 'people', 'percentage', 'perception', 'perform', 'performance', 'period', 'peripheral', 'permit', 'person', 'persuade', 'peso', 'peter', 'petrochemical', 'pharmaceutical', 'phase', 'philip', 'philippine', 'phone', 'photo', 'photograph', 'physician', 'piano', 'pick', 'picture', 'piece', 'pier', 'pilot', 'pioneer', 'pipe', 'pipeline', 'pitch', 'place', 'placement', 'plain', 'plaintiff', 'plan', 'plane', 'planet', 'planner', 'plant', 'plastic', 'play', 'player', 'plea', 'plead', 'pleas', 'please', 'pledge', 'ploy', 'plummet', 'plunge', 'point', 'policyholder', 'polish', 'poll', 'pollster', 'pool', 'population', 'portfolio', 'portion', 'portray', 'pose', 'position', 'post', 'postpone', 'pound', 'pour', 'power', 'practice', 'pre-empt', 'precaution', 'predict', 'prediction', 'prefer', 'preference', 'premium', 'prepare', 'preparer', 'presage', 'prescribe', 'prescription', 'present', 'presentation', 'preserve', 'president', 'press', 'pressure', 'prevail', 'prevent', 'price', 'pricing', 'print', 'printer', 'prison', 'prisoner', 'privilege', 'prize', 'pro', 'probe', 'problem', 'procedure', 'proceed', 'proceeding', 'process', 'processor', 'proclaim', 'prod', 'produce', 'producer', 'product', 'production', 'profession', 'professional', 'profit', 'program', 'prohibit', 'project', 'projection', 'prolong', 'promise', 'promote', 'promotion', 'prompt', 'proposal', 'propose', 'proposition', 'prosecutor', 'prospect', 'protect', 'protest', 'prove', 'provide', 'provider', 'province', 'provision', 'publication', 'publish', 'publisher', 'pull', 'pump', 'purchase', 'purpose', 'pursue', 'pursuit', 'push', 'quake', 'quarter', 'quek', 'question', 'quiet', 'race', 'radio', 'rage', 'raid', 'raider', 'rail', 'railroad', 'raise', 'raiser', 'rally', 'range', 'ranger', 'rank', 'rate', 'rating', 'ratio', 'reach', 'reaction', 'read', 'reader', 'reading', 'realize', 'reason', 'reassert', 'reassure', 'rebel', 'rebound', 'rebuild', 'recall', 'receive', 'recession', 'reclaim', 'recognize', 'recommend', 'recommendation', 'reconstruct', 'record', 'recorder', 'recording', 'recoup', 'recover', 'recruit', 'redeem', 'reduce', 'reduction', 'refer', 'refine', 'reflect', 'reform', 'reformer', 'refugee', 'refund', 'refuse', 'regain', 'regard', 'region', 'register', 'regret', 'regulate', 'regulation', 'regulator', 'reign', 'reinforce', 'reinforcement', 'reinstate', 'reinvest', 'reject', 'relation', 'relationship', 'relative', 'relax', 'release', 'relieve', 'relocate', 'rely', 'remain', 'remark', 'remember', 'remic', 'remind', 'remove', 'renew', 'renown', 'rental', 'reopen', 'repair', 'repayment', 'repeat', 'replace', 'report', 'reporter', 'represent', 'representative', 'republic', 'republican', 'repurchase', 'request', 'require', 'requirement', 'researcher', 'resemble', 'reservation', 'reserve', 'reside', 'resident', 'resignation', 'resist', 'resolution', 'resolve', 'resort', 'resource', 'respect', 'respond', 'response', 'restate', 'restaurant', 'restore', 'restrain', 'restrict', 'restriction', 'restructure', 'restructuring', 'result', 'resume', 'retail', 'retailer', 'retain', 'retire', 'retreat', 'retrieve', 'return', 'reuter', 'reveal', 'revenue', 'reverse', 'review', 'revive', 'reward', 'rewrite', 'rican', 'richard', 'rid', 'ride', 'rider', 'right', 'ring', 'rise', 'risk', 'rival', 'road', 'roadblock', 'roadway', 'roast', 'robert', 'robot', 'rock', 'roger', 'roll', 'roller', 'rollover', 'room', 'root', 'rotate', 'round', 'rout', 'route', 'rubin', 'rule', 'rumor', 'rush', 'sale', 'sandinista', 'sandwich', 'sanitize', 'saturate', 'saturday', 'save', 'saving', 'say', 'scale', 'scam', 'scandal', 'scare', 'scenario', 'scene', 'schedule', 'scheme', 'school', 'science', 'scientist', 'score', 'scorpio', 'scramble', 'scrap', 'scratch', 'screen', 'scribe', 'script', 'search', 'season', 'seat', 'second', 'secret', 'section', 'sector', 'secure', 'see', 'seed', 'seek', 'seem', 'segment', 'seize', 'select', 'selection', 'sell', 'seller', 'semiconductor', 'senator', 'send', 'senior', 'sentence', 'separate', 'serve', 'service', 'session', 'setback', 'settle', 'settlement', 'severe', 'shake', 'shape', 'share', 'shareholder', 'sheet', 'shell', 'shelter', 'shield', 'shift', 'ship', 'shipment', 'shock', 'shoe', 'shoot', 'shop', 'shopkeeper', 'shortage', 'shot', 'show', 'showroom', 'shut', 'shutdown', 'shuttle', 'shy', 'side', 'sideline', 'sidewalk', 'sierra', 'sigh', 'sign', 'signal', 'signature', 'sing', 'single', 'sister', 'site', 'situation', 'ski', 'skier', 'skill', 'skin', 'slash', 'slate', 'slaughter', 'sleep', 'slid', 'slide', 'slim', 'slow', 'slump', 'small', 'smash', 'smell', 'smile', 'smoke', 'snag', 'soar', 'socialist', 'sock', 'soft-drink', 'soldier', 'solicit', 'solution', 'sometime', 'sort', 'sound', 'soup', 'sour', 'source', 'soviet', 'soybean', 'space', 'span', 'spare', 'spawn', 'speak', 'speaker', 'special', 'specialist', 'specialize', 'specific', 'speculate', 'speculation', 'speculator', 'speed', 'spend', 'spill', 'spin', 'spirit', 'split', 'sponsor', 'sport', 'spot', 'spouse', 'spread', 'spring', 'square', 'squeeze', 'stabilize', 'stack', 'staff', 'staffer', 'stage', 'stake', 'stall', 'stalwart', 'stan', 'stand', 'standard', 'standby', 'star', 'start', 'state', 'statement', 'station', 'statue', 'statute', 'stay', 'steal', 'steam', 'steelmaker', 'steer', 'stem', 'step', 'steven', 'stick', 'stint', 'stipulate', 'stock', 'stockbroker', 'stockholder', 'stop', 'store', 'storm', 'strain', 'strategist', 'stream', 'streamline', 'street', 'strength', 'strengthen', 'stress', 'stretch', 'strike', 'stroke', 'structure', 'struggle', 'student', 'studio', 'study', 'stumble', 'style', 'subject', 'subscriber', 'substitute', 'succeed', 'successor', 'sucker', 'sue', 'suffer', 'suggest', 'suggestion', 'suit', 'summarize', 'sunday', 'superior', 'supermarket', 'supervisor', 'supplier', 'support', 'suppose', 'surface', 'surge', 'surprise', 'surrender', 'surround', 'survey', 'survive', 'suspect', 'suspend', 'sustain', 'swallow', 'sway', 'sweater', 'swede', 'swell', 'swing', 'switch', 'symbol', 'symptom', 'syndicate', 'system', 't-shirt', 'table', 'tactic', 'take', 'takeover', 'tale', 'talent', 'talk', 'tame', 'tank', 'tap', 'tape', 'target', 'task', 'taste', 'tax', 'taxpayer', 'team', 'telephone', 'tell', 'temblor', 'tenant', 'tend', 'tender', 'tension', 'tenth', 'term', 'terminal', 'test', 'texan', 'thank', 'the', 'theft', 'their', 'theme', 'thi', 'thing', 'think', 'thought', 'thousand', 'threaten', 'thrift', 'thrill', 'throw', 'thumb', 'thunder', 'tick', 'ticket', 'tide', 'tighten', 'tim', 'time', 'time-share', 'tire', 'title', 'tool', 'topic', 'topple', 'total', 'touch', 'touche', 'tour', 'tourist', 'tower', 'town', 'track', 'trade', 'trader', 'trail', 'train', 'transaction', 'transfer', 'translate', 'transport', 'trap', 'travel', 'traveler', 'treasury', 'treat', 'treatment', 'tremor', 'trend', 'trial', 'trigger', 'trimester', 'trip', 'triple', 'triumph', 'troop', 'trouble', 'truck', 'trucker', 'trudge', 'trust', 'truth', 'try', 'tuition', 'tumble', 'tumor', 'turn', 'twist', 'type', 'undermine', 'underscore', 'understand', 'undertake', 'undertaking', 'underwrite', 'underwriter', 'uniform', 'union', 'unit', 'unite', 'unveil', 'update', 'upgrade', 'upheaval', 'urge', 'us', 'use', 'user', 'vacate', 'vaccine', 'value', 'variable', 'vault', 'veer', 'vega', 'vehicle', 'venture', 'version', 'veteran', 'victim', 'videodisk', 'view', 'village', 'violate', 'violation', 'vision', 'visit', 'visitor', 'voice', 'volume', 'volunteer', 'vote', 'voter', 'waffle', 'wag', 'wage', 'wait', 'waive', 'walk', 'wall', 'wander', 'wane', 'want', 'war', 'warm', 'warn', 'warning', 'warrant', 'wash', 'waste', 'watch', 'water', 'watt', 'wave', 'weaken', 'weapon', 'wear', 'wednesday', 'week', 'weigh', 'weight', 'weighting', 'welcome', 'well', 'wheel', 'whisper', 'white', 'widen', 'widow', 'will', 'william', 'wind', 'window', 'winner', 'winter', 'wire', 'wiretap', 'wish', 'withstand', 'wonder', 'woo', 'wood', 'word', 'work', 'worker', 'workstation', 'world', 'worm', 'worry', 'worsen', 'wound', 'wreak', 'wrest', 'write', 'write-down', 'write-off', 'writer', 'yacht', 'year', 'yield', 'zero', 'zone']\n"
     ]
    }
   ],
   "source": [
    "print(fix)"
   ]
  },
  {
   "cell_type": "code",
   "execution_count": 8,
   "metadata": {},
   "outputs": [],
   "source": [
    "#\"\"\"\n",
    "outfile = \"./en_words_all.txt\"\n",
    "\n",
    "with open(outfile, \"w\") as f:\n",
    "    for word in fix:\n",
    "        f.write(word + \"\\n\")\n",
    "#\"\"\""
   ]
  },
  {
   "cell_type": "code",
   "execution_count": null,
   "metadata": {},
   "outputs": [],
   "source": []
  }
 ],
 "metadata": {
  "kernelspec": {
   "display_name": "Python 3",
   "language": "python",
   "name": "python3"
  },
  "language_info": {
   "codemirror_mode": {
    "name": "ipython",
    "version": 3
   },
   "file_extension": ".py",
   "mimetype": "text/x-python",
   "name": "python",
   "nbconvert_exporter": "python",
   "pygments_lexer": "ipython3",
   "version": "3.6.6"
  }
 },
 "nbformat": 4,
 "nbformat_minor": 4
}
