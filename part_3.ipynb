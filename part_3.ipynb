{
 "cells": [
  {
   "cell_type": "code",
   "execution_count": null,
   "metadata": {},
   "outputs": [],
   "source": [
    "import utils\n",
    "import emission\n",
    "import transition"
   ]
  },
  {
   "cell_type": "code",
   "execution_count": 2,
   "metadata": {},
   "outputs": [],
   "source": [
    "dataset_folder = \"data/EN/\"\n",
    "train_data = dataset_folder + \"train\"\n",
    "lines = utils.read_file_to_lines(train_data)"
   ]
  },
  {
   "cell_type": "code",
   "execution_count": 3,
   "metadata": {},
   "outputs": [
    {
     "name": "stdout",
     "output_type": "stream",
     "text": [
      "Skipped 1 lines: [''] \n",
      "\n",
      "Reduced vocab from 18213 to 8898\n"
     ]
    }
   ],
   "source": [
    "emission_data = emission.generate_emission_table(lines)\n",
    "hashmap = emission_data[\"x_hashmap\"]\n",
    "og_vocab_size = len(hashmap.keys())\n",
    "\n",
    "# smoothing\n",
    "smoothed_hashmap = utils.add_unk(hashmap, k=1)\n",
    "smooth_vocab_size = len(smoothed_hashmap.keys())\n",
    "print(\"Reduced vocab from\", og_vocab_size, \"to\", smooth_vocab_size)\n",
    "\n",
    "emission_data[\"x_hashmap\"] = smoothed_hashmap\n",
    "x_vocab = list(emission_data[\"x_hashmap\"].keys())"
   ]
  },
  {
   "cell_type": "code",
   "execution_count": 4,
   "metadata": {},
   "outputs": [],
   "source": [
    "transition_pairs = transition.generate_transition_pairs(lines)"
   ]
  },
  {
   "cell_type": "code",
   "execution_count": 5,
   "metadata": {},
   "outputs": [],
   "source": [
    "y_pairs = transition_pairs[\"Y_pairs\"]\n",
    "y_vocab = transition_pairs[\"y_vocab\"]"
   ]
  },
  {
   "cell_type": "code",
   "execution_count": 6,
   "metadata": {},
   "outputs": [],
   "source": [
    "transition_data = transition.generate_transition_data(y_pairs, y_vocab)"
   ]
  },
  {
   "cell_type": "code",
   "execution_count": 7,
   "metadata": {},
   "outputs": [],
   "source": [
    "# quick test - impossible cases \n",
    "assert transition.get_mle(\"##START##\", \"\", transition_data) == 0\n",
    "assert transition.get_mle(\"O\", \"##START##\", transition_data) == 0\n",
    "assert transition.get_mle(\"##END##\", \"O\", transition_data) == 0\n",
    "# non-zero for others\n",
    "assert transition.get_mle(\"##START##\", \"B-NP\", transition_data) > 0\n",
    "assert transition.get_mle(\"O\", \"##END##\", transition_data) > 0"
   ]
  },
  {
   "cell_type": "code",
   "execution_count": 8,
   "metadata": {},
   "outputs": [],
   "source": [
    "data = {\n",
    "    \"emission_data\": emission_data,\n",
    "    \"transition_data\": transition_data,\n",
    "    \"y_vocab\": y_vocab\n",
    "}"
   ]
  },
  {
   "cell_type": "code",
   "execution_count": 9,
   "metadata": {},
   "outputs": [],
   "source": [
    "import viterbi"
   ]
  },
  {
   "cell_type": "code",
   "execution_count": 10,
   "metadata": {},
   "outputs": [],
   "source": [
    "first_break = lines.index(\"\")\n",
    "sentence_xy = lines[:first_break]"
   ]
  },
  {
   "cell_type": "code",
   "execution_count": 11,
   "metadata": {},
   "outputs": [
    {
     "data": {
      "text/plain": [
       "'Municipal bonds are generally a bit safer than corporate bonds in a recession , but not as safe as bonds issued by the federal government .'"
      ]
     },
     "execution_count": 11,
     "metadata": {},
     "output_type": "execute_result"
    }
   ],
   "source": [
    "words, pos_list = [], []\n",
    "for token in sentence_xy:\n",
    "    word, pos = token.split(\" \")\n",
    "    words.append(word)\n",
    "    pos_list.append(pos)\n",
    "sentence_x = \" \".join(words).strip()\n",
    "sentence_x"
   ]
  },
  {
   "cell_type": "code",
   "execution_count": 13,
   "metadata": {},
   "outputs": [],
   "source": [
    "hmm = viterbi.HMM()"
   ]
  },
  {
   "cell_type": "code",
   "execution_count": 14,
   "metadata": {},
   "outputs": [],
   "source": [
    "hmm.fit_word_tokenizer(x_vocab)\n",
    "hmm.fit_pos_tokenizer(y_vocab)"
   ]
  },
  {
   "cell_type": "code",
   "execution_count": 15,
   "metadata": {},
   "outputs": [
    {
     "data": {
      "text/plain": [
       "(23, 23)"
      ]
     },
     "execution_count": 15,
     "metadata": {},
     "output_type": "execute_result"
    }
   ],
   "source": [
    "hmm.build_transition_weights(transition_data)\n",
    "hmm.transition_weights.shape"
   ]
  },
  {
   "cell_type": "code",
   "execution_count": 16,
   "metadata": {},
   "outputs": [
    {
     "data": {
      "text/plain": [
       "(23, 8898)"
      ]
     },
     "execution_count": 16,
     "metadata": {},
     "output_type": "execute_result"
    }
   ],
   "source": [
    "hmm.build_emission_weights(emission_data)\n",
    "hmm.emission_weights.shape"
   ]
  },
  {
   "cell_type": "code",
   "execution_count": 17,
   "metadata": {},
   "outputs": [],
   "source": [
    "pred = hmm.viterbi_predict(sentence_x)\n",
    "pred = hmm.pos_tokens_to_labels(pred)"
   ]
  },
  {
   "cell_type": "code",
   "execution_count": 23,
   "metadata": {},
   "outputs": [
    {
     "name": "stdout",
     "output_type": "stream",
     "text": [
      "['B-NP', 'I-NP', 'B-VP', 'B-ADVP', 'B-ADJP', 'I-ADJP', 'I-ADJP', 'B-PP', 'B-NP', 'I-NP', 'B-PP', 'B-NP', 'I-NP', 'O', 'O', 'B-ADJP', 'I-ADJP', 'I-ADJP', 'B-PP', 'B-NP', 'B-VP', 'B-PP', 'B-NP', 'I-NP', 'I-NP', 'O']\n"
     ]
    }
   ],
   "source": [
    "print(pos_list)"
   ]
  },
  {
   "cell_type": "code",
   "execution_count": 24,
   "metadata": {},
   "outputs": [
    {
     "name": "stdout",
     "output_type": "stream",
     "text": [
      "['B-NP' 'B-VP' 'I-VP' 'B-NP' 'I-NP' 'I-NP' 'B-PP' 'B-NP' 'I-NP' 'B-PP'\n",
      " 'B-NP' 'I-NP' 'O' 'B-CONJP' 'I-CONJP' 'I-CONJP' 'I-CONJP' 'B-PP' 'B-NP'\n",
      " 'B-VP' 'I-VP' 'B-NP' 'I-NP' 'I-NP' 'I-NP' 'O']\n"
     ]
    }
   ],
   "source": [
    "print(pred)"
   ]
  },
  {
   "cell_type": "code",
   "execution_count": null,
   "metadata": {},
   "outputs": [],
   "source": []
  }
 ],
 "metadata": {
  "kernelspec": {
   "display_name": "Python 3",
   "language": "python",
   "name": "python3"
  },
  "language_info": {
   "codemirror_mode": {
    "name": "ipython",
    "version": 3
   },
   "file_extension": ".py",
   "mimetype": "text/x-python",
   "name": "python",
   "nbconvert_exporter": "python",
   "pygments_lexer": "ipython3",
   "version": "3.6.6"
  }
 },
 "nbformat": 4,
 "nbformat_minor": 4
}
