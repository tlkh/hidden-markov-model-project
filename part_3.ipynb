{
 "cells": [
  {
   "cell_type": "code",
   "execution_count": null,
   "metadata": {},
   "outputs": [],
   "source": [
    "import utils\n",
    "import emission\n",
    "import transition"
   ]
  },
  {
   "cell_type": "code",
   "execution_count": 2,
   "metadata": {},
   "outputs": [],
   "source": [
    "dataset_folder = \"data/SG/\"\n",
    "train_data = dataset_folder + \"train\"\n",
    "lines = utils.read_file_to_lines(train_data)"
   ]
  },
  {
   "cell_type": "code",
   "execution_count": 3,
   "metadata": {},
   "outputs": [
    {
     "name": "stdout",
     "output_type": "stream",
     "text": [
      "Skipped 1 lines:  ['']\n",
      "Reduced vocab from 51874 to 7978\n"
     ]
    }
   ],
   "source": [
    "emission_data = emission.generate_emission_table(lines)\n",
    "hashmap = emission_data[\"x_hashmap\"]\n",
    "og_vocab_size = len(hashmap.keys())\n",
    "\n",
    "# smoothing\n",
    "smoothed_hashmap = utils.add_unk(hashmap, k=3)\n",
    "smooth_vocab_size = len(smoothed_hashmap.keys())\n",
    "print(\"Reduced vocab from\", og_vocab_size, \"to\", smooth_vocab_size)\n",
    "\n",
    "emission_data[\"x_hashmap\"] = smoothed_hashmap\n",
    "x_vocab = list(emission_data[\"x_hashmap\"].keys())"
   ]
  },
  {
   "cell_type": "code",
   "execution_count": 4,
   "metadata": {},
   "outputs": [],
   "source": [
    "transition_pairs = transition.generate_transition_pairs(lines)"
   ]
  },
  {
   "cell_type": "code",
   "execution_count": 5,
   "metadata": {},
   "outputs": [],
   "source": [
    "y_pairs = transition_pairs[\"Y_pairs\"]\n",
    "y_vocab = transition_pairs[\"y_vocab\"]"
   ]
  },
  {
   "cell_type": "code",
   "execution_count": 6,
   "metadata": {},
   "outputs": [],
   "source": [
    "transition_data = transition.generate_transition_data(y_pairs, y_vocab)"
   ]
  },
  {
   "cell_type": "code",
   "execution_count": 7,
   "metadata": {},
   "outputs": [],
   "source": [
    "# quick test - impossible cases \n",
    "assert transition.get_mle(\"##START##\", \"\", transition_data) == 0\n",
    "assert transition.get_mle(\"O\", \"##START##\", transition_data) == 0\n",
    "assert transition.get_mle(\"##END##\", \"O\", transition_data) == 0\n",
    "# non-zero for others\n",
    "assert transition.get_mle(\"##START##\", \"O\", transition_data) > 0\n",
    "assert transition.get_mle(\"O\", \"##END##\", transition_data) > 0"
   ]
  },
  {
   "cell_type": "code",
   "execution_count": 8,
   "metadata": {},
   "outputs": [],
   "source": [
    "import viterbi"
   ]
  },
  {
   "cell_type": "code",
   "execution_count": 9,
   "metadata": {},
   "outputs": [
    {
     "data": {
      "text/plain": [
       "\"I'm about to see Adam Levine and I'm probably going to drop dead https://t.co/MpRIS0FqSA\""
      ]
     },
     "execution_count": 9,
     "metadata": {},
     "output_type": "execute_result"
    }
   ],
   "source": [
    "# convert first sentence to test\n",
    "\n",
    "first_break = lines.index(\"\")\n",
    "sentence_xy = lines[:first_break]\n",
    "\n",
    "words, pos_list = [], []\n",
    "for token in sentence_xy:\n",
    "    word, pos = token.split(\" \")\n",
    "    words.append(word)\n",
    "    pos_list.append(pos)\n",
    "sentence_x = \" \".join(words).strip()\n",
    "sentence_x"
   ]
  },
  {
   "cell_type": "code",
   "execution_count": 10,
   "metadata": {},
   "outputs": [],
   "source": [
    "hmm = viterbi.HMM()"
   ]
  },
  {
   "cell_type": "code",
   "execution_count": 11,
   "metadata": {},
   "outputs": [],
   "source": [
    "hmm.fit_word_tokenizer(x_vocab)\n",
    "hmm.fit_pos_tokenizer(y_vocab)"
   ]
  },
  {
   "cell_type": "code",
   "execution_count": 12,
   "metadata": {},
   "outputs": [
    {
     "data": {
      "text/plain": [
       "(9, 9)"
      ]
     },
     "execution_count": 12,
     "metadata": {},
     "output_type": "execute_result"
    }
   ],
   "source": [
    "hmm.build_transition_weights(transition_data)\n",
    "hmm.transition_weights.shape"
   ]
  },
  {
   "cell_type": "code",
   "execution_count": 13,
   "metadata": {},
   "outputs": [
    {
     "data": {
      "text/plain": [
       "(9, 7978)"
      ]
     },
     "execution_count": 13,
     "metadata": {},
     "output_type": "execute_result"
    }
   ],
   "source": [
    "hmm.build_emission_weights(emission_data)\n",
    "hmm.emission_weights.shape"
   ]
  },
  {
   "cell_type": "code",
   "execution_count": 14,
   "metadata": {},
   "outputs": [
    {
     "name": "stdout",
     "output_type": "stream",
     "text": [
      "preds ['O', 'O', 'O', 'O', 'O', 'O', 'O', 'O', 'O', 'O', 'O', 'O', 'O', 'O']\n",
      "truth ['O', 'O', 'O', 'O', 'B-positive', 'I-positive', 'O', 'O', 'O', 'O', 'O', 'O', 'O', 'O']\n"
     ]
    }
   ],
   "source": [
    "pred = hmm.viterbi_predict(sentence_x)\n",
    "pred = hmm.pos_tokens_to_labels(pred)\n",
    "print(\"preds\", pred)\n",
    "print(\"truth\", pos_list)\n",
    "assert len(pred) == len(pos_list)"
   ]
  },
  {
   "cell_type": "code",
   "execution_count": 15,
   "metadata": {},
   "outputs": [],
   "source": [
    "train_data = dataset_folder + \"dev.in\"\n",
    "lines = utils.read_file_to_lines(train_data)\n",
    "\n",
    "sentences = []\n",
    "\n",
    "while len(lines) > 1:\n",
    "    sentence_break = lines.index(\"\")\n",
    "    sentence_xy = lines[:sentence_break]\n",
    "    words = [token.strip() for token in sentence_xy]\n",
    "    sentence = \" \".join(words).strip()\n",
    "    sentences.append(sentence)\n",
    "    lines = lines[sentence_break+1:]"
   ]
  },
  {
   "cell_type": "code",
   "execution_count": 16,
   "metadata": {},
   "outputs": [
    {
     "name": "stderr",
     "output_type": "stream",
     "text": [
      "  0%|          | 0/3107 [00:00<?, ?it/s]"
     ]
    }
   ],
   "source": [
    "# only for the progress bar!\n",
    "try:\n",
    "    from tqdm import tqdm\n",
    "    USE_TQDM = True\n",
    "except Exception as e:\n",
    "    print(e, \"TQDM import error, disable progress bar\")\n",
    "\n",
    "if USE_TQDM:\n",
    "    sentences_it = tqdm(sentences)\n",
    "else:\n",
    "    sentences_it = sentences"
   ]
  },
  {
   "cell_type": "code",
   "execution_count": 17,
   "metadata": {},
   "outputs": [
    {
     "name": "stderr",
     "output_type": "stream",
     "text": [
      "100%|██████████| 3107/3107 [00:07<00:00, 401.14it/s]\n"
     ]
    }
   ],
   "source": [
    "preds = []\n",
    "\n",
    "for line in sentences_it:\n",
    "    pred = hmm.viterbi_predict(line)\n",
    "    pred = hmm.pos_tokens_to_labels(pred)\n",
    "    preds.append(pred)\n",
    "    \n",
    "assert len(sentences) == len(preds)"
   ]
  },
  {
   "cell_type": "code",
   "execution_count": 18,
   "metadata": {},
   "outputs": [],
   "source": [
    "outfile = dataset_folder + \"dev.p3.out\"\n",
    "\n",
    "with open(outfile, \"w\") as f:\n",
    "    for sentence, pred in zip(sentences, preds):\n",
    "        word_array = sentence.split(\" \")\n",
    "        try:\n",
    "            assert len(word_array) == len(pred)\n",
    "            for i, word in enumerate(word_array):\n",
    "                f.write(word + \" \" + pred[i] +\"\\n\")\n",
    "        except:\n",
    "            print(word_array)\n",
    "            print(pred)\n",
    "            break\n",
    "        f.write(\"\\n\")"
   ]
  },
  {
   "cell_type": "code",
   "execution_count": 19,
   "metadata": {},
   "outputs": [
    {
     "name": "stdout",
     "output_type": "stream",
     "text": [
      "\n",
      "#Entity in gold data: 4537\n",
      "#Entity in prediction: 625\n",
      "\n",
      "#Correct Entity : 83\n",
      "Entity  precision: 0.1328\n",
      "Entity  recall: 0.0183\n",
      "Entity  F: 0.0322\n",
      "\n",
      "#Correct Sentiment : 36\n",
      "Sentiment  precision: 0.0576\n",
      "Sentiment  recall: 0.0079\n",
      "Sentiment  F: 0.0139\n"
     ]
    }
   ],
   "source": [
    "!python3 evalResult.py ./data/SG/dev.out ./data/SG/dev.p3.out"
   ]
  },
  {
   "cell_type": "code",
   "execution_count": null,
   "metadata": {},
   "outputs": [],
   "source": []
  }
 ],
 "metadata": {
  "kernelspec": {
   "display_name": "Python 3",
   "language": "python",
   "name": "python3"
  },
  "language_info": {
   "codemirror_mode": {
    "name": "ipython",
    "version": 3
   },
   "file_extension": ".py",
   "mimetype": "text/x-python",
   "name": "python",
   "nbconvert_exporter": "python",
   "pygments_lexer": "ipython3",
   "version": "3.6.6"
  }
 },
 "nbformat": 4,
 "nbformat_minor": 4
}
