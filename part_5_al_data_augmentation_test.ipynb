{
 "cells": [
  {
   "cell_type": "code",
   "execution_count": 1,
   "metadata": {},
   "outputs": [],
   "source": [
    "import utils"
   ]
  },
  {
   "cell_type": "code",
   "execution_count": 2,
   "metadata": {},
   "outputs": [],
   "source": [
    "LOWER = False\n",
    "REP_NUM = True\n",
    "REP_SYM = True"
   ]
  },
  {
   "cell_type": "code",
   "execution_count": 3,
   "metadata": {},
   "outputs": [],
   "source": [
    "dataset_folder = \"data/AL/\"\n",
    "train_data = dataset_folder + \"train\"\n",
    "lines = utils.read_file_to_lines(train_data)"
   ]
  },
  {
   "cell_type": "code",
   "execution_count": 4,
   "metadata": {},
   "outputs": [],
   "source": [
    "sentences = []\n",
    "pos_tags = []\n",
    "\n",
    "while len(lines) > 1:\n",
    "    sentence_break = lines.index(\"\")\n",
    "    sentence_xy = lines[:sentence_break]\n",
    "    words = [utils.preprocess_text(token.split(\" \")[0],\n",
    "                                   mode=\"al\",\n",
    "                                   lower=LOWER,\n",
    "                                   replace_number=REP_NUM)\n",
    "             for token in sentence_xy]\n",
    "    pos = [token.split(\" \")[1] for token in sentence_xy]\n",
    "    sentences.append(words)\n",
    "    pos_tags.append(pos)\n",
    "    lines = lines[sentence_break+1:]"
   ]
  },
  {
   "cell_type": "code",
   "execution_count": 5,
   "metadata": {},
   "outputs": [],
   "source": [
    "name_categories = [\n",
    "    'CITY', 'COMMUNITY', 'COUNTRY', 'DISTRICT', 'POI', 'PROV', 'ROAD', 'TOWN'\n",
    "]"
   ]
  },
  {
   "cell_type": "code",
   "execution_count": 6,
   "metadata": {},
   "outputs": [],
   "source": [
    "name_words = []\n",
    "ignore = [\"-\", \"?\", \"_\", 'a', 'b', 'c', 'd', 'e', 'f', 'g', 'h', 'j', 'k', 'l', 'm', 'n', 's', 'u', 'w', 'x']\n",
    "\n",
    "def get_entities(sentence, pos_tag):\n",
    "    for i in range(len(sentence)):\n",
    "        try:\n",
    "            pos = pos_tag[i].split(\"-\")[1]\n",
    "            word = sentence[i]\n",
    "            if pos in name_categories:\n",
    "                if len(word) < 2 and word not in ignore:\n",
    "                    name_words.append(word)\n",
    "        except Exception as e:\n",
    "            pass\n",
    "        \n",
    "for n in range(len(sentences)):\n",
    "    sentence = sentences[n]\n",
    "    pos_tag = pos_tags[n]\n",
    "    get_entities(sentence, pos_tag)\n",
    "    \n",
    "def clean_list(input_list):\n",
    "    input_list = list(set(input_list))\n",
    "    input_list.sort()\n",
    "    return input_list\n",
    "\n",
    "name_words = clean_list(name_words)\n",
    "len_name_words = len(name_words)"
   ]
  },
  {
   "cell_type": "code",
   "execution_count": 7,
   "metadata": {},
   "outputs": [],
   "source": [
    "import copy\n",
    "from random import randint, choice"
   ]
  },
  {
   "cell_type": "code",
   "execution_count": 8,
   "metadata": {},
   "outputs": [],
   "source": [
    "def rand_bool():\n",
    "    return choice([True, False])\n",
    "\n",
    "def augment_line(sentence, pos_tag):\n",
    "    start = False\n",
    "    for i, word in enumerate(sentence):\n",
    "        try:\n",
    "            b, pos = pos_tag[i].split(\"-\")\n",
    "            if pos in name_categories and rand_bool():\n",
    "                r_i = randint(0, len_name_words)\n",
    "                sentence[i] = name_words[r_i]\n",
    "        except:\n",
    "            pass\n",
    "    return sentence"
   ]
  },
  {
   "cell_type": "code",
   "execution_count": 9,
   "metadata": {},
   "outputs": [
    {
     "name": "stdout",
     "output_type": "stream",
     "text": [
      "org: 小 港 四 方 家 园 1-4 幢 1-6 室\n",
      "aug: 小 港 四 方 家 回 1-4 幢 1-6 室\n",
      "\n",
      "org: 嘉 兴 南 湖 区 文 昌 路 新 文 化 广 场 电 联\n",
      "aug: 泱 兴 南 湖 卓 精 郭 伦 新 文 化 广 桷 电 联\n",
      "\n",
      "org: 浙 江 省 宁 波 市 海 曙 区 白 杨 街 4-4 弄 1-5 号 阳 光 大 药 房\n",
      "aug: 浙 次 省 宁 郜 市 雾 曙 区 白 应 仿 4-4 弄 1-5 号 阳 帆 大 踞 柱\n",
      "\n",
      "org: 浙 江 省 宁 波 市 镇 海 区 镇 海 区 钟 包 路 3-3 号 合 生 国 际 城 6-5 幢 架 空 层 丰 巢\n",
      "aug: 浙 江 言 宁 务 市 医 锰 涡 镇 海 区 器 包 食 3-3 号 晃 生 巾 际 屋 6-5 幢 架 空 层 丰 巢\n",
      "\n",
      "org: 温 州 乐 清 柳 市 镇 蝉 东 物 流 园 义 乌 专 线\n",
      "aug: 汨 州 灌 清 柳 桂 见 蝉 君 郡 参 园 义 乌 专 线\n",
      "\n",
      "org: 浙 江 省 嘉 兴 市 海 宁 市 斜 桥 镇 时 尚 产 业 园 区 8-4 幢\n",
      "aug: 庵 婺 G 嘉 间 市 裕 丫 市 弋 曹 存 工 尚 产 蜍 园 浪 8-4 幢\n",
      "\n",
      "org: 浙 江 省 杭 州 市 余 杭 区 临 平 南 苑 街 道 南 大 街 9-4 号 余 杭 农 商 人 力 资 源 部\n",
      "aug: 腾 江 省 淄 州 漳 余 杭 谢 轮 平 泽 苑 街 吕 南 大 街 9-4 号 崇 杭 农 商 籍 殖 佘 源 山\n",
      "\n",
      "org: 和 义 路 1-5 号 汇 金 大 厦 1-6\n",
      "aug: 度 义 路 1-5 号 汇 示 大 厦 1-6\n",
      "\n",
      "org: 浙 江 省 湖 州 市 红 旗 路 1-6 号 湖 州 市 中 心 医 院\n",
      "aug: 琥 江 湘 洪 浅 市 红 旗 路 1-6 号 湖 漕 市 中 心 医 纸\n",
      "\n",
      "org: 苍 南 龙 港 刘 南 539-540 号\n",
      "aug: 苍 云 龙 港 彦 装 539-540 号\n",
      "\n",
      "org: 上 海 市 闸 北 区 河 南 北 路 1-6 号\n",
      "aug: 上 芷 冠 芯 提 粮 河 南 北 路 1-6 号\n",
      "\n",
      "org: 上 海 市 浦 东 区 康 桥 镇 秀 浦 路 3-6 弄 创 研 智 造 1-5 号 D 1-4 楼 威 纳 企 业\n",
      "aug: 伽 境 雨 浦 嘉 寨 康 桥 吓 秀 浦 路 3-6 弄 创 庐 洞 军 1-5 号 D 1-4 楼 威 纳 企 业\n",
      "\n",
      "org: 车 站 大 道 1-6 智 慧 谷 温 州 文 化 创 意 园 I 栋 7-5 室\n",
      "aug: 普 杏 大 爵 1-6 智 慧 谷 温 府 明 化 创 璎 园 I 栋 7-5 室\n",
      "\n",
      "org: 浙 江 省 杭 州 江 干 区 秋 涛 北 路 三 华 天 运 花 园 1-4 - 1-4 - 2-6\n",
      "aug: 浙 江 巾 杭 州 江 干 汪 蔚 涛 北 篮 恩 候 天 下 花 园 1-4 - 1-4 - 2-6\n",
      "\n",
      "org: 绍 兴 市 诸 暨 市 店 口 镇 中 央 路 3-5\n",
      "aug: 绍 杜 搭 诸 焙 嬉 琳 口 邮 禧 央 路 3-5\n",
      "\n",
      "org: 义 乌 市 商 城 大 道 金 城 高 尔 夫 1-3 区 7-3 - 1-6\n",
      "aug: 义 乌 诊 商 潮 大 道 金 道 醍 尔 汾 1-3 区 7-3 - 1-6\n",
      "\n",
      "org: 浙 江 省 杭 州 江 干 区 幸 福 南 路 8-3 号 八 号 楼 五 楼 万 事 利 丝 绸 科 技 有 限 公 司\n",
      "aug: 浙 帕 帛 杭 州 江 干 雾 幸 天 吓 隆 8-3 号 八 号 楼 五 楼 万 事 利 丝 绸 科 技 有 限 公 司\n",
      "\n",
      "org: 浙 江 省 杭 州 市 余 杭 区 临 平 街 道 北 大 街 251-257 号 三 楼\n",
      "aug: 浙 江 回 杭 古 市 昔 栅 段 衫 定 格 道 北 大 萄 251-257 号 三 楼\n",
      "\n",
      "org: 浦 沿 街 道 东 信 大 道 1-6 号\n",
      "aug: 圹 沿 北 泉 五 信 锦 道 1-6 号\n",
      "\n",
      "org: 浙 江 省 杭 州 市 江 干 区 下 沙 幸 福 南 路 9-3 号 万 事 利 工 业 园 1-4 幢 9-3 楼\n",
      "aug: 胥 垫 省 形 州 市 江 干 区 汁 弄 示 畈 南 路 9-3 号 万 瓦 利 工 业 园 1-4 幢 9-3 楼\n",
      "\n"
     ]
    }
   ],
   "source": [
    "aug_lines = []\n",
    "\n",
    "#for n in range(len(sentences)):\n",
    "for n in range(20):\n",
    "    sentence = sentences[n]\n",
    "    sentence = copy.deepcopy(sentence)\n",
    "    print(\"org:\", \" \".join(sentence))\n",
    "    pos_tag = pos_tags[n]\n",
    "    sentence = augment_line(sentence, pos_tag)\n",
    "    for i, word in enumerate(sentence):\n",
    "        pos = pos_tag[i]\n",
    "        line = word + \" \" + pos\n",
    "        aug_lines.append(line)\n",
    "    print(\"aug:\", \" \".join(sentence))\n",
    "    print(\"\")"
   ]
  },
  {
   "cell_type": "code",
   "execution_count": 10,
   "metadata": {},
   "outputs": [],
   "source": [
    "#aug_lines[:100]"
   ]
  },
  {
   "cell_type": "code",
   "execution_count": null,
   "metadata": {},
   "outputs": [],
   "source": []
  }
 ],
 "metadata": {
  "kernelspec": {
   "display_name": "Python 3",
   "language": "python",
   "name": "python3"
  },
  "language_info": {
   "codemirror_mode": {
    "name": "ipython",
    "version": 3
   },
   "file_extension": ".py",
   "mimetype": "text/x-python",
   "name": "python",
   "nbconvert_exporter": "python",
   "pygments_lexer": "ipython3",
   "version": "3.6.9"
  }
 },
 "nbformat": 4,
 "nbformat_minor": 4
}
