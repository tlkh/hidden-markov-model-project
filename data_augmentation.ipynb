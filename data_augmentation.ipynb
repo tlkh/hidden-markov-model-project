{
 "cells": [
  {
   "cell_type": "code",
   "execution_count": 1,
   "metadata": {},
   "outputs": [],
   "source": [
    "import utils"
   ]
  },
  {
   "cell_type": "code",
   "execution_count": 2,
   "metadata": {},
   "outputs": [],
   "source": [
    "LOWER = True\n",
    "NORM_TENSE = True\n",
    "REP_NUM = True\n",
    "REP_YEAR = True\n",
    "REP_SYM = False"
   ]
  },
  {
   "cell_type": "code",
   "execution_count": 3,
   "metadata": {},
   "outputs": [],
   "source": [
    "dataset_folder = \"data/EN/\"\n",
    "train_data = dataset_folder + \"train\"\n",
    "lines = utils.read_file_to_lines(train_data)"
   ]
  },
  {
   "cell_type": "code",
   "execution_count": 4,
   "metadata": {},
   "outputs": [],
   "source": [
    "sentences = []\n",
    "pos_tags = []\n",
    "\n",
    "while len(lines) > 1:\n",
    "    sentence_break = lines.index(\"\")\n",
    "    sentence_xy = lines[:sentence_break]\n",
    "    words = [utils.preprocess_text(token.split(\" \")[0],\n",
    "                                   lower=LOWER,\n",
    "                                   norm_tense=NORM_TENSE,\n",
    "                                   replace_number=REP_NUM,\n",
    "                                   replace_year=REP_YEAR,\n",
    "                                   replace_symbol=REP_SYM)\n",
    "             for token in sentence_xy]\n",
    "    pos = [token.split(\" \")[1] for token in sentence_xy]\n",
    "    sentences.append(words)\n",
    "    pos_tags.append(pos)\n",
    "    lines = lines[sentence_break+1:]"
   ]
  },
  {
   "cell_type": "code",
   "execution_count": 5,
   "metadata": {},
   "outputs": [],
   "source": [
    "o_list = [\"a\", \"the\"]\n",
    "np_list = []\n",
    "vp_list = []\n",
    "\n",
    "def get_entities(sentence, pos_tag):\n",
    "    for i in range(len(sentence)):\n",
    "        try:\n",
    "            pos = pos_tag[i].split(\"-\")[1]\n",
    "            word = sentence[i]\n",
    "            if word not in o_list and word[0].isalpha():\n",
    "                if pos == \"NP\":\n",
    "                    np_list.append(word)\n",
    "                elif pos == \"VP\":\n",
    "                    vp_list.append(word)\n",
    "        except Exception as e:\n",
    "            pass\n",
    "        \n",
    "for n in range(len(sentences)):\n",
    "    sentence = sentences[n]\n",
    "    pos_tag = pos_tags[n]\n",
    "    get_entities(sentence, pos_tag)\n",
    "    \n",
    "def clean_list(input_list):\n",
    "    input_list = list(set(input_list))\n",
    "    input_list.sort()\n",
    "    return input_list\n",
    "\n",
    "np_list = clean_list(np_list)\n",
    "len_np = len(np_list)\n",
    "\n",
    "vp_list = clean_list(vp_list)\n",
    "len_vp = len(vp_list)"
   ]
  },
  {
   "cell_type": "code",
   "execution_count": 6,
   "metadata": {},
   "outputs": [],
   "source": [
    "import copy\n",
    "from random import randint, choice"
   ]
  },
  {
   "cell_type": "code",
   "execution_count": 10,
   "metadata": {},
   "outputs": [],
   "source": [
    "def rand_bool():\n",
    "    return choice([True, False])\n",
    "\n",
    "def augment_line(sentence, pos_tag):\n",
    "    start = False\n",
    "    for i, word in enumerate(sentence):\n",
    "        try:\n",
    "            b, pos = pos_tag[i].split(\"-\")\n",
    "            if pos == \"NP\" and sentence[i] not in o_list:\n",
    "                if rand_bool():\n",
    "                    r_i = randint(0, len_np)\n",
    "                    sentence[i] = np_list[r_i]\n",
    "            elif pos == \"VP\" and sentence[i] not in o_list:\n",
    "                if rand_bool():\n",
    "                    r_i = randint(0, len_vp)\n",
    "                    sentence[i] = vp_list[r_i]\n",
    "        except:\n",
    "            pass\n",
    "    return sentence"
   ]
  },
  {
   "cell_type": "code",
   "execution_count": 11,
   "metadata": {},
   "outputs": [
    {
     "name": "stdout",
     "output_type": "stream",
     "text": [
      "org: municipal bond are generally a bit safer than corporate bond in a recession , but not as safe as bond issued by the federal government .\n",
      "aug: army bond rest generally a bit safer than corporate bond in a recession , but not as safe as previously issued by the federal government .\n",
      "\n",
      "org: he added that the cost for stress-related compensation claim is about twice the average for all injury claim .\n",
      "aug: he added that the cost for stress-related gorman circuit is about refuge the epicenter for all injury commerciale .\n",
      "\n",
      "org: the incident occurred saturday night .\n",
      "aug: the dealing toiling saturday night .\n",
      "\n",
      "org: he said : `` we know of no technology that exist anywhere in the world that would allow u to '' reinforce the column .\n",
      "aug: he said : `` we withstand of usa technology contradictory commit anywhere in the world that finishing expose mounting to '' reinforce the are .\n",
      "\n",
      "org: walter h. monteith jr. , snet chairman and chief executive officer , said : `` innovative marketing of our product and service contributed to increase revenue . ''\n",
      "aug: walter bunker recapitalization multi-family , snet physics implication chief executive year-earlier , said : `` innovative marketing of utilitarian product powerhouse israel distributed to threw revenue . ''\n",
      "\n",
      "org: the defense lawyer , three of whom are solo practitioners , say they ca n't afford to put their law practice on hold for another seven-month trial .\n",
      "aug: the clearance footnote , three of generally canceled solo practitioners , say they scold discard constantly to wailing their partly practice on shevardnadze for rebuilding seven-month approaches .\n",
      "\n",
      "org: the meeting is expected to call for heightened austerity for two year .\n",
      "aug: the lobbyist related expected to call for heightened societe for intermittent year .\n",
      "\n",
      "org: stock rallied on good earning report and on data that showed less inflation than expected .\n",
      "aug: geo involved on good earning report and on flexible that showed firefighters showtime than expected .\n",
      "\n",
      "org: those rumor are confirmed after the end of trading yesterday when the u.s. agriculture department announced that the soviet had bought 1 million metric tons of u.s. corn , bringing their u.s. corn purchase confirmed so far thi month to about five million metric tons .\n",
      "aug: august dukakis are confirmed after the end of trading yesterday when the alarming agriculture department announced that the search had leave mattel counselor hemingway tons of cassettes much , coordinate their baltic corn purchase downgraded so far thi trend to about five million expiring tons .\n",
      "\n",
      "org: according to one analyst , bernard savaiko of painewebber , new york , the stock market 's ability on monday to rally from last friday 's decline -- which seemed to indicate that the economy is n't going to fall either -- took the starch out of precious metal price , and out of gold 's , in particular .\n",
      "aug: according to one analyst , licensed personal-property of painewebber , new york , the software market 's enterprise on result to smack from last friday nbc market-maker -- which restructured undermine indicate that the economy declaring n't sign to citing either -- took the starch out of precious metal ruth , and out of gold 's , in roe .\n",
      "\n",
      "org: `` you know , '' she says , `` stereotypical stuff like armadillos , cowboy and football . ''\n",
      "aug: `` you settling , '' she convict , `` stereotypical tissue like armadillos born-again cowboy mail-order playing . ''\n",
      "\n",
      "org: i is driving my truck , stopped at a red light at the corner of shattuck and alcatraz at the oakland-berkeley border when it hit .\n",
      "aug: i teach attending my pankyo , stopped at a red mercy at the adventurism of shattuck employerpaid doc at the oakland-berkeley womack when it hit .\n",
      "\n",
      "org: refcorp , created by the thrift-overhaul law enacted in august , will use the proceed to merge or sell off ailing savings-and-loan institution .\n",
      "aug: podium , reveal by the thrift-overhaul law tend in august , will crawls the lockheed treating occasion or fetch off issuing savings-and-loan institution .\n",
      "\n",
      "org: farmer reap abundant crop .\n",
      "aug: fukuyama reap abundant crop .\n",
      "\n",
      "org: thi hardly sound like an anti-homosexual screed .\n",
      "aug: merieux hardly sound like an hollings medicaid .\n",
      "\n",
      "org: the east german media soon began presenting mr. gorbachev 's speeches only as sketchy summaries , and giving space to his opponent .\n",
      "aug: the favor german fabricators soon began omitted parasites capitalism 's n.y. only as airport reluctance , and force space to his gain .\n",
      "\n",
      "org: `` you have to have clear feeling about someone before you can make jokes , '' says an east german mother of two who love swapping political barbs with her friend .\n",
      "aug: `` you awaited crimping have clear feeling about someone before quarter-to-quarter tendered depend jokes , '' says an east iced attridge of development pent-up indefinitely approved eldred barbs with her lack .\n",
      "\n",
      "org: and thousand of afghan children have been taken to the soviet union , where they are hostage for the behavior of their families .\n",
      "aug: and thousand of afghan children requesting been forming to the log union , where they instill hostage for the bidding of their families .\n",
      "\n",
      "org: in addition to paying for earthquake and fire damage , the insurer must cover worker-compensation claim and also losses due to businesses being shut down by lack of power or phone service .\n",
      "aug: in laws to paying for marjorie liberties fire damage , the insurer must cover janesville nato and also cheap due to businesses predict retreated down by lack of marshall or phone cuauhtemoc .\n",
      "\n",
      "org: in the latest nine month , mr. hutchinson said , total coal sale rose to about 14 million tons from about 14 million tons a year earlier .\n",
      "aug: in the dodge greenwood reaction , narcokleptocrat hutchinson close , total coal sale rose to dogged 14 non-performing orrin from about rohs million souped-up a spread earlier .\n",
      "\n"
     ]
    }
   ],
   "source": [
    "aug_lines = []\n",
    "\n",
    "#for n in range(len(sentences)):\n",
    "for n in range(20):\n",
    "    sentence = sentences[n]\n",
    "    sentence = copy.deepcopy(sentence)\n",
    "    print(\"org:\", \" \".join(sentence))\n",
    "    pos_tag = pos_tags[n]\n",
    "    sentence = augment_line(sentence, pos_tag)\n",
    "    for i, word in enumerate(sentence):\n",
    "        pos = pos_tag[i]\n",
    "        line = word + \" \" + pos\n",
    "        aug_lines.append(line)\n",
    "    print(\"aug:\", \" \".join(sentence))\n",
    "    print(\"\")"
   ]
  },
  {
   "cell_type": "code",
   "execution_count": 9,
   "metadata": {},
   "outputs": [],
   "source": [
    "#aug_lines[:100]"
   ]
  },
  {
   "cell_type": "code",
   "execution_count": null,
   "metadata": {},
   "outputs": [],
   "source": []
  }
 ],
 "metadata": {
  "kernelspec": {
   "display_name": "Python 3",
   "language": "python",
   "name": "python3"
  },
  "language_info": {
   "codemirror_mode": {
    "name": "ipython",
    "version": 3
   },
   "file_extension": ".py",
   "mimetype": "text/x-python",
   "name": "python",
   "nbconvert_exporter": "python",
   "pygments_lexer": "ipython3",
   "version": "3.6.6"
  }
 },
 "nbformat": 4,
 "nbformat_minor": 4
}
