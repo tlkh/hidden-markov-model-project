{
 "cells": [
  {
   "cell_type": "code",
   "execution_count": 1,
   "metadata": {},
   "outputs": [],
   "source": [
    "import utils"
   ]
  },
  {
   "cell_type": "code",
   "execution_count": 2,
   "metadata": {},
   "outputs": [],
   "source": [
    "LOWER = True\n",
    "NORM_TENSE = True\n",
    "REP_NUM = True\n",
    "REP_YEAR = True\n",
    "REP_SYM = False"
   ]
  },
  {
   "cell_type": "code",
   "execution_count": 3,
   "metadata": {},
   "outputs": [],
   "source": [
    "dataset_folder = \"data/EN/\"\n",
    "train_data = dataset_folder + \"train\"\n",
    "lines = utils.read_file_to_lines(train_data)"
   ]
  },
  {
   "cell_type": "code",
   "execution_count": 4,
   "metadata": {},
   "outputs": [],
   "source": [
    "sentences = []\n",
    "pos_tags = []\n",
    "\n",
    "while len(lines) > 1:\n",
    "    sentence_break = lines.index(\"\")\n",
    "    sentence_xy = lines[:sentence_break]\n",
    "    words = [utils.preprocess_text(token.split(\" \")[0],\n",
    "                                   lower=LOWER,\n",
    "                                   norm_tense=NORM_TENSE,\n",
    "                                   replace_number=REP_NUM,\n",
    "                                   replace_year=REP_YEAR,\n",
    "                                   replace_symbol=REP_SYM)\n",
    "             for token in sentence_xy]\n",
    "    pos = [token.split(\" \")[1] for token in sentence_xy]\n",
    "    sentences.append(words)\n",
    "    pos_tags.append(pos)\n",
    "    lines = lines[sentence_break+1:]"
   ]
  },
  {
   "cell_type": "code",
   "execution_count": 5,
   "metadata": {},
   "outputs": [],
   "source": [
    "o_list = [\"a\", \"the\"]\n",
    "np_list = []\n",
    "\n",
    "def get_entities(sentence, pos_tag):\n",
    "    for i in range(len(sentence)):\n",
    "        try:\n",
    "            pos = pos_tag[i].split(\"-\")[1]\n",
    "            if pos == \"NP\":\n",
    "                word = sentence[i]\n",
    "                if word not in o_list and word[0].isalpha():\n",
    "                    np_list.append(word)\n",
    "        except Exception as e:\n",
    "            pass\n",
    "        \n",
    "for n in range(len(sentences)):\n",
    "    sentence = sentences[n]\n",
    "    pos_tag = pos_tags[n]\n",
    "    get_entities(sentence, pos_tag)\n",
    "    \n",
    "np_list = list(set(np_list))\n",
    "np_list.sort()\n",
    "len_np = len(np_list)"
   ]
  },
  {
   "cell_type": "code",
   "execution_count": 6,
   "metadata": {},
   "outputs": [],
   "source": [
    "import copy\n",
    "from random import randint, choice"
   ]
  },
  {
   "cell_type": "code",
   "execution_count": null,
   "metadata": {},
   "outputs": [],
   "source": [
    "def rand_bool():\n",
    "    return choice([True, False])\n",
    "\n",
    "def augment_line(sentence, pos_tag):\n",
    "    for i, word in enumerate(sentence):\n",
    "        try:\n",
    "            pos = pos_tag[i].split(\"-\")[1]\n",
    "            if pos == \"NP\" and sentence[i] not in o_list:\n",
    "                if rand_bool():\n",
    "                    r_i = randint(0, len_np)\n",
    "                    sentence[i] = np_list[r_i]\n",
    "        except:\n",
    "            pass\n",
    "    return sentence"
   ]
  },
  {
   "cell_type": "code",
   "execution_count": 15,
   "metadata": {},
   "outputs": [
    {
     "name": "stdout",
     "output_type": "stream",
     "text": [
      "OG: municipal bond are generally a bit safer than corporate bond in a recession , but not as safe as bond issued by the federal government .\n",
      "AG: firmness mass-market are generally a bit safer than appropriate bond in a recession , but not as safe as any issued by the heritage government .\n"
     ]
    }
   ],
   "source": [
    "for n in range(len(sentences)):\n",
    "    sentence = sentences[n]\n",
    "    print(\"OG:\", \" \".join(sentence))\n",
    "    sentence = copy.deepcopy(sentence)\n",
    "    pos_tag = pos_tags[n]\n",
    "    sentence = augment_line(sentence, pos_tag)\n",
    "    print(\"AG:\", \" \".join(sentence))\n",
    "    break"
   ]
  },
  {
   "cell_type": "code",
   "execution_count": null,
   "metadata": {},
   "outputs": [],
   "source": []
  },
  {
   "cell_type": "code",
   "execution_count": null,
   "metadata": {},
   "outputs": [],
   "source": []
  }
 ],
 "metadata": {
  "kernelspec": {
   "display_name": "Python 3",
   "language": "python",
   "name": "python3"
  },
  "language_info": {
   "codemirror_mode": {
    "name": "ipython",
    "version": 3
   },
   "file_extension": ".py",
   "mimetype": "text/x-python",
   "name": "python",
   "nbconvert_exporter": "python",
   "pygments_lexer": "ipython3",
   "version": "3.6.6"
  }
 },
 "nbformat": 4,
 "nbformat_minor": 4
}
