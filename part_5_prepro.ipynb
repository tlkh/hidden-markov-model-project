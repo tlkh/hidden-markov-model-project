{
 "cells": [
  {
   "cell_type": "code",
   "execution_count": null,
   "metadata": {},
   "outputs": [],
   "source": [
    "import utils\n",
    "import emission\n",
    "import transition"
   ]
  },
  {
   "cell_type": "code",
   "execution_count": null,
   "metadata": {},
   "outputs": [],
   "source": [
    "LOWER = True\n",
    "NORM_TENSE = True\n",
    "REP_NUM = True\n",
    "REP_YEAR = True\n",
    "REP_SYM = False"
   ]
  },
  {
   "cell_type": "code",
   "execution_count": 3,
   "metadata": {},
   "outputs": [],
   "source": [
    "dataset_folder = \"data/EN/\"\n",
    "train_data = dataset_folder + \"train\"\n",
    "lines = utils.read_file_to_lines(train_data)"
   ]
  },
  {
   "cell_type": "code",
   "execution_count": 4,
   "metadata": {},
   "outputs": [
    {
     "name": "stdout",
     "output_type": "stream",
     "text": [
      "not enough values to unpack (expected 2, got 1)\n",
      "Skipped 1 lines:  ['']\n",
      "Vocab size: 4216\n"
     ]
    }
   ],
   "source": [
    "emission_data = emission.generate_emission_table(lines,\n",
    "                                                 lower=LOWER,\n",
    "                                                 norm_tense=NORM_TENSE,\n",
    "                                                 replace_number=REP_NUM,\n",
    "                                                 replace_year=REP_YEAR,\n",
    "                                                 replace_symbol=REP_SYM)\n",
    "hashmap = emission_data[\"x_hashmap\"]\n",
    "word_freq = emission_data[\"x_word_freq\"]\n",
    "smoothed_hashmap = utils.add_unk(hashmap, word_freq, k=4)\n",
    "emission_data[\"x_hashmap\"] = smoothed_hashmap\n",
    "\n",
    "x_vocab = utils.get_emission_vocab(smoothed_hashmap)\n",
    "print(\"Vocab size:\", len(x_vocab))"
   ]
  },
  {
   "cell_type": "code",
   "execution_count": 5,
   "metadata": {},
   "outputs": [],
   "source": [
    "transition_pairs = transition.generate_transition_pairs(lines)"
   ]
  },
  {
   "cell_type": "code",
   "execution_count": 6,
   "metadata": {},
   "outputs": [],
   "source": [
    "y_pairs = transition_pairs[\"Y_pairs\"]\n",
    "y_vocab = transition_pairs[\"y_vocab\"]\n",
    "y_freq = transition_pairs[\"y_freq\"]"
   ]
  },
  {
   "cell_type": "code",
   "execution_count": 7,
   "metadata": {},
   "outputs": [],
   "source": [
    "transition_data = transition.generate_transition_data(y_pairs, y_vocab)"
   ]
  },
  {
   "cell_type": "code",
   "execution_count": 8,
   "metadata": {},
   "outputs": [],
   "source": [
    "import viterbi"
   ]
  },
  {
   "cell_type": "code",
   "execution_count": 9,
   "metadata": {},
   "outputs": [],
   "source": [
    "hmm = viterbi.HMM()\n",
    "hmm.fit_word_tokenizer(x_vocab)\n",
    "hmm.fit_pos_tokenizer(y_vocab)\n",
    "hmm.build_transition_weights(y_freq, transition_data)\n",
    "hmm.build_emission_weights(emission_data)"
   ]
  },
  {
   "cell_type": "code",
   "execution_count": 10,
   "metadata": {},
   "outputs": [],
   "source": [
    "train_data = dataset_folder + \"dev.in\"\n",
    "lines = utils.read_file_to_lines(train_data)\n",
    "\n",
    "sentences = []\n",
    "\n",
    "while len(lines) > 1:\n",
    "    sentence_break = lines.index(\"\")\n",
    "    sentence_xy = lines[:sentence_break]\n",
    "    words = [utils.preprocess_text(token,\n",
    "                                   lower=LOWER,\n",
    "                                   norm_tense=NORM_TENSE,\n",
    "                                   replace_number=REP_NUM,\n",
    "                                   replace_year=REP_YEAR,\n",
    "                                   replace_symbol=REP_SYM)\n",
    "             for token in sentence_xy]\n",
    "    sentence = \" \".join(words).strip()\n",
    "    sentences.append(sentence)\n",
    "    lines = lines[sentence_break+1:]"
   ]
  },
  {
   "cell_type": "code",
   "execution_count": 11,
   "metadata": {},
   "outputs": [
    {
     "data": {
      "text/plain": [
       "['the senate estimate that its version of the provision would yield $ 17 million the first year and a total of $ 409 million over five year .',\n",
       " 'trinova third-quarter loss after a charge for a planned restructuring , which will include the closing or downsizing of about 25 % of its plant and a work force cut of about 1500 over three year .',\n",
       " 'dealer said it is hit by some profit-taking after gain since mid-week .',\n",
       " 'gm said the assembly plant , which build the chevrolet corsica and beretta compact cars , originally is scheduled to reopen monday but now will not resume production until oct. 30 .',\n",
       " \"the lawsuit state that unless the sanctions are halted pending an appeal , the broker and his firm `` will be irreparably injured and their business will be totally and permanently destroyed . ''\",\n",
       " 'construction of the NUM-floor building will begin next may and should be completed in april 1992 .',\n",
       " \"mr. batchelder says that in the past , bank would normally have loaned 65 % of a total buy-out price , with the loan secured by the target company 's asset .\",\n",
       " 'they point at the numerous developing-country government that have inflated , taxed and regulated themselves into despair under successive imf program .',\n",
       " 'it said the reduction reflect impaired business prospect and reduced financial flexibility caused by continuing losses at the maker of winchester disk drive .',\n",
       " 'the company , which went public in may , intend to pay dividend from available cash flow ; the amount may vary from quarter to quarter .']"
      ]
     },
     "execution_count": 11,
     "metadata": {},
     "output_type": "execute_result"
    }
   ],
   "source": [
    "sentences[100:110]"
   ]
  },
  {
   "cell_type": "code",
   "execution_count": 12,
   "metadata": {},
   "outputs": [
    {
     "name": "stderr",
     "output_type": "stream",
     "text": [
      "  0%|          | 0/1094 [00:00<?, ?it/s]"
     ]
    }
   ],
   "source": [
    "# only for the progress bar!\n",
    "try:\n",
    "    from tqdm import tqdm\n",
    "    USE_TQDM = True\n",
    "except Exception as e:\n",
    "    print(e, \"TQDM import error, disable progress bar\")\n",
    "\n",
    "if USE_TQDM:\n",
    "    sentences_it = tqdm(sentences)\n",
    "else:\n",
    "    sentences_it = sentences"
   ]
  },
  {
   "cell_type": "code",
   "execution_count": 13,
   "metadata": {},
   "outputs": [
    {
     "name": "stderr",
     "output_type": "stream",
     "text": [
      "100%|██████████| 1094/1094 [00:32<00:00, 33.67it/s]\n"
     ]
    }
   ],
   "source": [
    "preds = []\n",
    "\n",
    "for line in sentences_it:\n",
    "    pred = hmm.viterbi_predict(line)\n",
    "    pred = hmm.pos_tokens_to_labels(pred)\n",
    "    preds.append(pred)\n",
    "    \n",
    "assert len(sentences) == len(preds)"
   ]
  },
  {
   "cell_type": "code",
   "execution_count": 14,
   "metadata": {},
   "outputs": [],
   "source": [
    "outfile = dataset_folder + \"dev.p5.out\"\n",
    "\n",
    "with open(outfile, \"w\") as f:\n",
    "    for sentence, pred in zip(sentences, preds):\n",
    "        word_array = sentence.split(\" \")\n",
    "        try:\n",
    "            assert len(word_array) == len(pred)\n",
    "            for i, word in enumerate(word_array):\n",
    "                f.write(word + \" \" + pred[i] +\"\\n\")\n",
    "        except:\n",
    "            print(word_array)\n",
    "            print(pred)\n",
    "            break\n",
    "        f.write(\"\\n\")"
   ]
  },
  {
   "cell_type": "code",
   "execution_count": 15,
   "metadata": {},
   "outputs": [
    {
     "name": "stdout",
     "output_type": "stream",
     "text": [
      "\n",
      "#Entity in gold data: 13179\n",
      "#Entity in prediction: 12913\n",
      "\n",
      "#Correct Entity : 10936\n",
      "Entity  precision: 0.8469\n",
      "Entity  recall: 0.8298\n",
      "Entity  F: 0.8383\n",
      "\n",
      "#Correct Sentiment : 10543\n",
      "Sentiment  precision: 0.8165\n",
      "Sentiment  recall: 0.8000\n",
      "Sentiment  F: 0.8081\n"
     ]
    }
   ],
   "source": [
    "!python3 evalResult.py ./data/EN/dev.out ./data/EN/dev.p5.out"
   ]
  },
  {
   "cell_type": "code",
   "execution_count": null,
   "metadata": {},
   "outputs": [],
   "source": []
  }
 ],
 "metadata": {
  "kernelspec": {
   "display_name": "Python 3",
   "language": "python",
   "name": "python3"
  },
  "language_info": {
   "codemirror_mode": {
    "name": "ipython",
    "version": 3
   },
   "file_extension": ".py",
   "mimetype": "text/x-python",
   "name": "python",
   "nbconvert_exporter": "python",
   "pygments_lexer": "ipython3",
   "version": "3.6.6"
  }
 },
 "nbformat": 4,
 "nbformat_minor": 4
}
