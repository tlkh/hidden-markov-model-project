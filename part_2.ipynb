{
 "cells": [
  {
   "cell_type": "markdown",
   "metadata": {},
   "source": [
    "## Part 2"
   ]
  },
  {
   "cell_type": "markdown",
   "metadata": {},
   "source": [
    "1. Write a function that estimates the emission parameters `e(x|y)` from the training set using MLE (maximum likelihood estimation)."
   ]
  },
  {
   "cell_type": "code",
   "execution_count": 1,
   "metadata": {},
   "outputs": [],
   "source": [
    "import utils\n",
    "import emission"
   ]
  },
  {
   "cell_type": "code",
   "execution_count": 2,
   "metadata": {},
   "outputs": [],
   "source": [
    "dataset_folder = \"data/EN/\"\n",
    "train_data = dataset_folder + \"train\"\n",
    "lines = utils.read_file_to_lines(train_data)"
   ]
  },
  {
   "cell_type": "code",
   "execution_count": 3,
   "metadata": {},
   "outputs": [
    {
     "name": "stdout",
     "output_type": "stream",
     "text": [
      "Skipped 1 lines: [''] \n",
      "\n"
     ]
    }
   ],
   "source": [
    "emission_data = emission.generate_emission_table(lines)"
   ]
  },
  {
   "cell_type": "code",
   "execution_count": 4,
   "metadata": {},
   "outputs": [
    {
     "name": "stdout",
     "output_type": "stream",
     "text": [
      "MLE: e( Municipal | B-NP ) = 2.1139414438220062e-05\n"
     ]
    }
   ],
   "source": [
    "# example: e(word|tag) aka tag -> word\n",
    "\n",
    "word = \"Municipal\"\n",
    "tag = \"B-NP\"\n",
    "\n",
    "print(\"MLE: e(\", word, \"|\", tag, \") =\", emission.get_mle(word, tag, emission_data))"
   ]
  },
  {
   "cell_type": "markdown",
   "metadata": {},
   "source": [
    "2. Use label smoothing with `k=3` to account for rare and unknown words."
   ]
  },
  {
   "cell_type": "code",
   "execution_count": 5,
   "metadata": {},
   "outputs": [],
   "source": [
    "# tests\n",
    "\n",
    "hashmap = emission_data[\"x_hashmap\"]\n",
    "og_vocab_size = len(hashmap.keys())\n",
    "\n",
    "# k = 0\n",
    "hashmap_smoothed = utils.add_unk(hashmap, k=0)\n",
    "assert len(hashmap.keys()) == len(hashmap_smoothed.keys())\n",
    "\n",
    "# k = 1 > k = 2\n",
    "hashmap_k1 = utils.add_unk(hashmap, k=1)\n",
    "hashmap_k2 = utils.add_unk(hashmap, k=2)\n",
    "assert len(hashmap_k1.keys()) > len(hashmap_k2.keys())"
   ]
  },
  {
   "cell_type": "code",
   "execution_count": 6,
   "metadata": {},
   "outputs": [
    {
     "name": "stdout",
     "output_type": "stream",
     "text": [
      "Reduced vocab from 18213 to 4829\n"
     ]
    }
   ],
   "source": [
    "smoothed_hashmap = utils.add_unk(hashmap, k=3)\n",
    "smooth_vocab_size = len(smoothed_hashmap.keys())\n",
    "print(\"Reduced vocab from\", og_vocab_size, \"to\", smooth_vocab_size)"
   ]
  },
  {
   "cell_type": "code",
   "execution_count": 7,
   "metadata": {},
   "outputs": [
    {
     "name": "stdout",
     "output_type": "stream",
     "text": [
      "MLE: e( Municipal | B-NP ) = 0.10364654899059296\n"
     ]
    }
   ],
   "source": [
    "emission_data[\"x_hashmap\"] = smoothed_hashmap\n",
    "print(\"MLE: e(\", word, \"|\", tag, \") =\", emission.get_mle(word, tag, emission_data))"
   ]
  },
  {
   "cell_type": "markdown",
   "metadata": {},
   "source": [
    "3. Implement a simple sentiment analysis system"
   ]
  },
  {
   "cell_type": "code",
   "execution_count": 8,
   "metadata": {},
   "outputs": [],
   "source": [
    "eval_data = dataset_folder + \"dev.in\"\n",
    "lines = utils.read_file_to_lines(eval_data)\n",
    "outfile = dataset_folder + \"dev.p2.out\"\n",
    "\n",
    "pos_tags = list(emission_data[\"y_tags\"].keys())\n",
    "\n",
    "preds = []\n",
    "\n",
    "for word in lines:\n",
    "    if word is not \"\":\n",
    "        mle_list = [emission.get_mle(word, tag, emission_data) for tag in pos_tags]\n",
    "        argmax_mle = pos_tags[mle_list.index(max(mle_list))]\n",
    "        preds.append(argmax_mle)\n",
    "    else:\n",
    "        preds.append(\"\")\n",
    "    \n",
    "output = zip(lines, preds)\n",
    "\n",
    "with open(outfile, \"w\") as f:\n",
    "    for line in output:\n",
    "        f.write(line[0] + \" \" + line[1] +\"\\n\")"
   ]
  },
  {
   "cell_type": "code",
   "execution_count": 9,
   "metadata": {},
   "outputs": [
    {
     "name": "stdout",
     "output_type": "stream",
     "text": [
      "\n",
      "#Entity in gold data: 13179\n",
      "#Entity in prediction: 19580\n",
      "\n",
      "#Correct Entity : 9055\n",
      "Entity  precision: 0.4625\n",
      "Entity  recall: 0.6871\n",
      "Entity  F: 0.5528\n",
      "\n",
      "#Correct Sentiment : 7431\n",
      "Sentiment  precision: 0.3795\n",
      "Sentiment  recall: 0.5639\n",
      "Sentiment  F: 0.4537\n"
     ]
    }
   ],
   "source": [
    "!python3 evalResult.py ./data/EN/dev.out ./data/EN/dev.p2.out"
   ]
  },
  {
   "cell_type": "code",
   "execution_count": null,
   "metadata": {},
   "outputs": [],
   "source": []
  }
 ],
 "metadata": {
  "kernelspec": {
   "display_name": "Python 3",
   "language": "python",
   "name": "python3"
  },
  "language_info": {
   "codemirror_mode": {
    "name": "ipython",
    "version": 3
   },
   "file_extension": ".py",
   "mimetype": "text/x-python",
   "name": "python",
   "nbconvert_exporter": "python",
   "pygments_lexer": "ipython3",
   "version": "3.6.6"
  }
 },
 "nbformat": 4,
 "nbformat_minor": 4
}
