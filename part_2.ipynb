{
 "cells": [
  {
   "cell_type": "markdown",
   "metadata": {},
   "source": [
    "## Part 2"
   ]
  },
  {
   "cell_type": "markdown",
   "metadata": {},
   "source": [
    "1. Write a function that estimates the emission parameters `e(x|y)` from the training set using MLE (maximum likelihood estimation)."
   ]
  },
  {
   "cell_type": "code",
   "execution_count": 1,
   "metadata": {},
   "outputs": [],
   "source": [
    "import utils\n",
    "import emission"
   ]
  },
  {
   "cell_type": "code",
   "execution_count": 2,
   "metadata": {},
   "outputs": [],
   "source": [
    "dataset_folder = \"data/CN/\"\n",
    "train_data = dataset_folder + \"train\"\n",
    "lines = utils.read_file_to_lines(train_data)"
   ]
  },
  {
   "cell_type": "code",
   "execution_count": 3,
   "metadata": {},
   "outputs": [
    {
     "name": "stdout",
     "output_type": "stream",
     "text": [
      "Skipped 1 lines:  ['']\n"
     ]
    }
   ],
   "source": [
    "emission_data = emission.generate_emission_table(lines)"
   ]
  },
  {
   "cell_type": "markdown",
   "metadata": {},
   "source": [
    "2. Use label smoothing with `k=3` to account for rare and unknown words."
   ]
  },
  {
   "cell_type": "code",
   "execution_count": 4,
   "metadata": {},
   "outputs": [
    {
     "name": "stdout",
     "output_type": "stream",
     "text": [
      "Reduced vocab from 23766 to 5546\n"
     ]
    }
   ],
   "source": [
    "hashmap = emission_data[\"x_hashmap\"]\n",
    "og_vocab_size = len(hashmap.keys())\n",
    "smoothed_hashmap = utils.add_unk(hashmap, k=3)\n",
    "smooth_vocab_size = len(smoothed_hashmap.keys())\n",
    "emission_data[\"x_hashmap\"] = smoothed_hashmap\n",
    "print(\"Reduced vocab from\", og_vocab_size, \"to\", smooth_vocab_size)"
   ]
  },
  {
   "cell_type": "markdown",
   "metadata": {},
   "source": [
    "3. Implement a simple sentiment analysis system"
   ]
  },
  {
   "cell_type": "code",
   "execution_count": 5,
   "metadata": {},
   "outputs": [],
   "source": [
    "eval_data = dataset_folder + \"dev.in\"\n",
    "lines = utils.read_file_to_lines(eval_data)\n",
    "outfile = dataset_folder + \"dev.p2.out\"\n",
    "\n",
    "pos_tags = list(emission_data[\"y_tags\"].keys())\n",
    "\n",
    "preds = []\n",
    "\n",
    "for word in lines:\n",
    "    if word is not \"\":\n",
    "        mle_list = [emission.get_mle(word, tag, emission_data) for tag in pos_tags]\n",
    "        argmax_mle = pos_tags[mle_list.index(max(mle_list))]\n",
    "        preds.append(argmax_mle)\n",
    "    else:\n",
    "        preds.append(\"\")\n",
    "    \n",
    "output = zip(lines, preds)\n",
    "\n",
    "with open(outfile, \"w\") as f:\n",
    "    for line in output:\n",
    "        f.write(line[0] + \" \" + line[1] +\"\\n\")"
   ]
  },
  {
   "cell_type": "code",
   "execution_count": 6,
   "metadata": {},
   "outputs": [
    {
     "name": "stdout",
     "output_type": "stream",
     "text": [
      "\n",
      "#Entity in gold data: 1478\n",
      "#Entity in prediction: 9741\n",
      "\n",
      "#Correct Entity : 758\n",
      "Entity  precision: 0.0778\n",
      "Entity  recall: 0.5129\n",
      "Entity  F: 0.1351\n",
      "\n",
      "#Correct Sentiment : 265\n",
      "Sentiment  precision: 0.0272\n",
      "Sentiment  recall: 0.1793\n",
      "Sentiment  F: 0.0472\n"
     ]
    }
   ],
   "source": [
    "!python3 evalResult.py ./data/CN/dev.out ./data/CN/dev.p2.out"
   ]
  },
  {
   "cell_type": "code",
   "execution_count": null,
   "metadata": {},
   "outputs": [],
   "source": []
  }
 ],
 "metadata": {
  "kernelspec": {
   "display_name": "Python 3",
   "language": "python",
   "name": "python3"
  },
  "language_info": {
   "codemirror_mode": {
    "name": "ipython",
    "version": 3
   },
   "file_extension": ".py",
   "mimetype": "text/x-python",
   "name": "python",
   "nbconvert_exporter": "python",
   "pygments_lexer": "ipython3",
   "version": "3.6.6"
  }
 },
 "nbformat": 4,
 "nbformat_minor": 4
}
