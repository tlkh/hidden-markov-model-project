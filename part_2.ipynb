{
 "cells": [
  {
   "cell_type": "markdown",
   "metadata": {},
   "source": [
    "## Part 2"
   ]
  },
  {
   "cell_type": "markdown",
   "metadata": {},
   "source": [
    "1. Write a function that estimates the emission parameters `e(x|y)` from the training set using MLE (maximum likelihood estimation)."
   ]
  },
  {
   "cell_type": "code",
   "execution_count": 1,
   "metadata": {},
   "outputs": [],
   "source": [
    "import utils\n",
    "import emission"
   ]
  },
  {
   "cell_type": "code",
   "execution_count": 2,
   "metadata": {},
   "outputs": [],
   "source": [
    "dataset_folder = \"data/EN/\"\n",
    "train_data = dataset_folder + \"train\"\n",
    "lines = utils.read_file_to_lines(train_data)"
   ]
  },
  {
   "cell_type": "code",
   "execution_count": 3,
   "metadata": {},
   "outputs": [
    {
     "name": "stdout",
     "output_type": "stream",
     "text": [
      "Skipped 1 lines:  ['']\n"
     ]
    }
   ],
   "source": [
    "emission_data = emission.generate_emission_table(lines)"
   ]
  },
  {
   "cell_type": "markdown",
   "metadata": {},
   "source": [
    "2. Use label smoothing with `k=3` to account for rare and unknown words."
   ]
  },
  {
   "cell_type": "code",
   "execution_count": 4,
   "metadata": {},
   "outputs": [
    {
     "name": "stdout",
     "output_type": "stream",
     "text": [
      "Vocab size reduced from 18212 to 4829\n"
     ]
    }
   ],
   "source": [
    "hashmap = emission_data[\"x_hashmap\"]\n",
    "\n",
    "og_vocab_size = len(utils.get_emission_vocab(hashmap))\n",
    "\n",
    "word_freq = emission_data[\"x_word_freq\"]\n",
    "smoothed_hashmap = utils.add_unk(hashmap, word_freq, k=3)\n",
    "\n",
    "vocab_size = len(utils.get_emission_vocab(smoothed_hashmap))\n",
    "\n",
    "emission_data[\"x_hashmap\"] = smoothed_hashmap\n",
    "\n",
    "print(\"Vocab size reduced from\", og_vocab_size, \"to\", vocab_size)"
   ]
  },
  {
   "cell_type": "markdown",
   "metadata": {},
   "source": [
    "3. Implement a simple sentiment analysis system"
   ]
  },
  {
   "cell_type": "code",
   "execution_count": 5,
   "metadata": {},
   "outputs": [],
   "source": [
    "eval_data = dataset_folder + \"dev.in\"\n",
    "lines = utils.read_file_to_lines(eval_data)\n",
    "outfile = dataset_folder + \"dev.p2.out\"\n",
    "\n",
    "pos_tags = list(emission_data[\"y_tags\"].keys())\n",
    "\n",
    "preds = []\n",
    "\n",
    "for word in lines:\n",
    "    if word is not \"\":\n",
    "        mle_list = [emission.get_mle(word, tag, emission_data) for tag in pos_tags]\n",
    "        argmax_mle = pos_tags[mle_list.index(max(mle_list))]\n",
    "        preds.append(argmax_mle)\n",
    "    else:\n",
    "        preds.append(\"\")\n",
    "    \n",
    "output = zip(lines, preds)\n",
    "\n",
    "with open(outfile, \"w\") as f:\n",
    "    for line in output:\n",
    "        f.write(line[0] + \" \" + line[1] +\"\\n\")"
   ]
  },
  {
   "cell_type": "code",
   "execution_count": 6,
   "metadata": {},
   "outputs": [
    {
     "name": "stdout",
     "output_type": "stream",
     "text": [
      "\n",
      "#Entity in gold data: 13179\n",
      "#Entity in prediction: 18893\n",
      "\n",
      "#Correct Entity : 9182\n",
      "Entity  precision: 0.4860\n",
      "Entity  recall: 0.6967\n",
      "Entity  F: 0.5726\n",
      "\n",
      "#Correct Sentiment : 7894\n",
      "Sentiment  precision: 0.4178\n",
      "Sentiment  recall: 0.5990\n",
      "Sentiment  F: 0.4923\n"
     ]
    }
   ],
   "source": [
    "!python3 evalResult.py ./data/EN/dev.out ./data/EN/dev.p2.out"
   ]
  },
  {
   "cell_type": "code",
   "execution_count": null,
   "metadata": {},
   "outputs": [],
   "source": []
  }
 ],
 "metadata": {
  "kernelspec": {
   "display_name": "Python 3",
   "language": "python",
   "name": "python3"
  },
  "language_info": {
   "codemirror_mode": {
    "name": "ipython",
    "version": 3
   },
   "file_extension": ".py",
   "mimetype": "text/x-python",
   "name": "python",
   "nbconvert_exporter": "python",
   "pygments_lexer": "ipython3",
   "version": "3.6.9"
  }
 },
 "nbformat": 4,
 "nbformat_minor": 4
}
