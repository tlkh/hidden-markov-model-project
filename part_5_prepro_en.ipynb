{
 "cells": [
  {
   "cell_type": "code",
   "execution_count": 1,
   "metadata": {},
   "outputs": [],
   "source": [
    "import utils\n",
    "import emission\n",
    "import transition\n",
    "import viterbi\n",
    "\n",
    "import copy\n",
    "from random import randint, choice\n",
    "import numpy as np"
   ]
  },
  {
   "cell_type": "code",
   "execution_count": 2,
   "metadata": {},
   "outputs": [],
   "source": [
    "LOWER = True\n",
    "NORM_TENSE = True\n",
    "REP_NUM = True\n",
    "REP_YEAR = True\n",
    "REP_SYM = True"
   ]
  },
  {
   "cell_type": "code",
   "execution_count": 3,
   "metadata": {},
   "outputs": [],
   "source": [
    "dataset_folder = \"data/EN/\"\n",
    "train_data = dataset_folder + \"train\"\n",
    "lines = utils.read_file_to_lines(train_data)"
   ]
  },
  {
   "cell_type": "code",
   "execution_count": 4,
   "metadata": {},
   "outputs": [
    {
     "name": "stdout",
     "output_type": "stream",
     "text": [
      "Vocab size: 3348\n"
     ]
    }
   ],
   "source": [
    "emission_data = emission.generate_emission_table(lines,\n",
    "                                                 lower=LOWER,\n",
    "                                                 norm_tense=NORM_TENSE,\n",
    "                                                 replace_number=REP_NUM,\n",
    "                                                 replace_year=REP_YEAR,\n",
    "                                                 replace_symbol=REP_SYM)\n",
    "hashmap = emission_data[\"x_hashmap\"]\n",
    "word_freq = emission_data[\"x_word_freq\"]\n",
    "smoothed_hashmap = utils.add_unk(hashmap, word_freq, k=5)\n",
    "emission_data[\"x_hashmap\"] = smoothed_hashmap\n",
    "\n",
    "x_vocab = utils.get_emission_vocab(smoothed_hashmap)\n",
    "print(\"Vocab size:\", len(x_vocab))"
   ]
  },
  {
   "cell_type": "code",
   "execution_count": 5,
   "metadata": {},
   "outputs": [
    {
     "name": "stdout",
     "output_type": "stream",
     "text": [
      "['!', '#', '##UNK##', '##YEAR##', '$', '%', '&', \"'\", \"''\", \"'d\", \"'ll\", \"'m\", \"'re\", \"'s\", \"'ve\", ',', '-', '-lcb-', '-lrb-', '-rcb-', '-rrb-', '.', '...', '0-3', '0-4', '1-10', '1-3', '1-4', '1-5', '1-6', '1-7', '1-8', '1-9', '11\\\\/16', '1\\\\/2', '1\\\\/4', '1\\\\/8', '2-3', '2-4', '2-5', '2-6', '2-7', '2-8', '2-9', '3-3', '3-4', '3-5', '3-6', '3-7', '3-8', '3\\\\/4', '3\\\\/8', '4-3', '4-4', '4-5', '4-6', '4-7', '4-8', '5-3', '5-4', '5-5', '5-6', '5-7', '5-8', '5\\\\/8', '6-3', '6-4', '6-5', '6-6', '6-7', '6-8', '7-3', '7-4', '7-5', '7-7', '7\\\\/8', '8-3', '8-4', '8-5', '8-6', '9-3', '9-4', '9-5', '9-6', '9\\\\/16', ':', ';', '?', 'NUM-THING', '`', '``', 'a', 'a.', 'a.m.', 'a.p.', 'ab', 'abandoned', 'ability', 'able', 'abortion', 'abortion-rights', 'about', 'above', 'abroad', 'abuse', 'accept', 'accepted', 'access', 'accord', 'account', 'accountant', 'accounted', 'accused', 'achieved', 'acknowledges', 'acquire', 'acquired', 'acquiring', 'acquisition', 'across', 'act', 'action', 'active', 'activist', 'activities', 'activity', 'actual', 'actually', 'ad', 'add', 'added', 'addition', 'additional', 'address', 'adequate', 'adjust', 'adjustable', 'adjusted', 'adjustment', 'administration', 'administrative', 'admits', 'admitted', 'adopt', 'ads', 'advance', 'advanced', 'advantage', 'advertiser', 'advertising', 'advice', 'adviser', 'advisory', 'advocate', 'aerospace', 'affair', 'affect', 'affected', 'affidavit', 'affiliate', 'affiliated', 'afford', 'afghan', 'africa', 'african', 'afrikaner', 'after', 'after-tax', 'afternoon', 'aftershock', 'ag', 'again', 'against', 'age', 'agencies', 'agency', 'agent', 'aggressive', 'aggressively', 'ago', 'agree', 'agreed', 'agreement', 'agriculture', 'ahead', 'aid', 'aide', 'aim', 'aimed', 'air', 'aircraft', 'airline', 'airport', 'airways', 'alan', 'alexander', 'all', 'allegations', 'allege', 'alleged', 'allen', 'alliance', 'allies', 'allow', 'allowed', 'almost', 'alone', 'along', 'already', 'also', 'alternative', 'although', 'always', 'am', 'amdura', 'amendment', 'america', 'american', 'amex', 'amid', 'amoco', 'among', 'amount', 'amr', 'an', 'analysis', 'analyst', 'and', 'andersson', 'angeles', 'angeles-based', 'animal', 'announce', 'announced', 'announcement', 'announcing', 'annual', 'annually', 'another', 'answer', 'anticipate', 'anticipated', 'anticipation', 'antitrust', 'anxiety', 'any', 'anybody', 'anyone', 'anything', 'apartheid', 'apartment', 'apparent', 'apparently', 'appeal', 'appealed', 'appear', 'appeared', 'apple', 'applicants', 'application', 'apply', 'appointed', 'approach', 'appropriations', 'approval', 'approve', 'approved', 'approximately', 'april', 'arbitrage', 'are', 'area', 'arena', 'argue', 'argued', 'argument', 'arizona', 'arm', 'army', 'around', 'arrangement', 'arrest', 'arrived', 'art', 'article', 'artist', 'as', 'asia', 'asian', 'ask', 'asked', 'aspect', 'assassination', 'assembly', 'asset', 'asset-backed', 'assist', 'assistance', 'assistant', 'associate', 'associated', 'association', 'assume', 'assumed', 'assumption', 'assurance', 'at', 'at&t', 'atlanta', 'atlantic', 'atlantis', 'atmosphere', 'attack', 'attempt', 'attend', 'attendants', 'attention', 'attitude', 'attorney', 'attract', 'attracted', 'attractive', 'attributed', 'auction', 'audience', 'audit', 'august', 'author', 'authorities', 'authority', 'authorization', 'auto', 'automatically', 'automobile', 'automotive', 'available', 'avenue', 'average', 'avoid', 'await', 'award', 'awarded', 'away', 'awful', 'b', 'b.', 'b.a.t', 'baby', 'back', 'backed', 'bad', 'bailout', 'baker', 'balance', 'ball', 'bally', 'ban', 'banc', 'banco', 'band', 'bank', 'bankamerica', 'banker', 'bankruptcy', 'banponce', 'barrel', 'barring', 'base', 'baseball', 'based', 'basic', 'basir', 'basis', 'battle', 'bay', 'be', 'beach', 'bear', 'bearing', 'beat', 'became', 'because', 'become', 'becoming', 'beefeater', 'been', 'beer', 'before', 'began', 'begin', 'beginning', 'begun', 'behavior', 'behind', 'beijing', 'believe', 'believed', 'bell', 'below', 'benchmark', 'beneficiaries', 'benefit', 'benefit-seeking', 'bennett', 'berkeley', 'berlin', 'bernard', 'beside', 'best', 'bet', 'beta', 'better', 'between', 'beyond', 'bicycle', 'bid', 'bidder', 'bidding', 'bids', 'big', 'bigger', 'biggest', 'bike', 'biker', 'bill', 'billion', 'bit', 'black', 'blame', 'bloc', 'block', 'blue', 'board', 'bob', 'body', 'boeing', 'bofors', 'bolster', 'bond', 'bonn', 'bonus', 'bonuses', 'book', 'boost', 'boosted', 'border', 'born', 'borrow', 'borrowed', 'borrower', 'boston', 'both', 'bottom', 'bought', 'boys', 'brady', 'branch', 'branches', 'brand', 'breach', 'break', 'bridge', 'brief', 'briefly', 'bring', 'britain', 'british', 'broad', 'broadcast', 'broken', 'broker', 'brokerage', 'brother', 'brought', 'brown', 'brussels', 'budget', 'buffett', 'build', 'building', 'built', 'bulk', 'bullish', 'burden', 'bureau', 'burger', 'burnham', 'burst', 'burton', 'bush', 'business', 'businesses', 'but', 'buy', 'buy-back', 'buy-out', 'buyer', 'by', 'c.', 'ca', 'cable', 'cabrera', 'calculation', 'california', 'call', 'called', 'cambodia', 'came', 'campaign', 'can', 'canada', 'canadian', 'canceled', 'cancer', 'candidate', 'capacity', 'capital', 'capital-gains', 'capitalist', 'capitol', 'capped', 'car', 'carat', 'card', 'care', 'career', 'carefully', 'cargo', 'carolina', 'carried', 'carrier', 'carries', 'carry', 'cars', 'case', 'cash', 'cast', 'casualty', 'catalog', 'catastrophe', 'catastrophic', 'catch', 'categories', 'category', 'caterpillar', 'cattle', 'caught', 'cause', 'caused', 'causing', 'caution', 'cautious', 'cbs', 'cd', 'cds', 'cela', 'cellular', 'census', 'center', 'central', 'cents', 'century', 'certain', 'certainly', 'certificate', 'chain', 'chairman', 'challenge', 'chamber', 'chan', 'chance', 'chancellor', 'chandler', 'change', 'changed', 'changing', 'chapter', 'charge', 'charged', 'charging', 'charities', 'charity', 'charles', 'chase', 'cheap', 'check', 'chemical', 'chemist', 'cherokee', 'chestman', 'chicago', 'chief', 'child', 'children', 'china', 'chinese', 'chip', 'choice', 'chosen', 'christmas', 'chrysler', 'church', 'cia', 'circuit', 'circumstances', 'cit', 'cited', 'citicorp', 'cities', 'city', 'civil', 'claim', 'claimed', 'class', 'clean', 'cleanup', 'clear', 'clearly', 'client', 'climate', 'climb', 'climbed', 'clinical', 'clinton', 'close', 'closed', 'closely', 'closer', 'closing', 'cloud', 'club', 'co', 'co.', 'coal', 'coalition', 'coast', 'coastal', 'coat', 'coca-cola', 'code', 'coffee', 'cold', 'colgate', 'collapse', 'collapsed', 'colleagues', 'collect', 'college', 'colorado', 'columbia', 'columbus', 'column', 'columnist', 'combination', 'combined', 'come', 'comex', 'comfort', 'comfortable', 'coming', 'comment', 'commerce', 'commercial', 'commerciale', 'commission', 'commissioner', 'commitment', 'committed', 'committee', 'commodities', 'commodity', 'commodore', 'common', 'communications', 'communist', 'community', 'companies', 'company', 'comparable', 'compare', 'compared', 'comparison', 'competing', 'competition', 'competitive', 'competitor', 'complain', 'complained', 'complaint', 'complete', 'completed', 'completely', 'component', 'composite', 'compound', 'compromise', 'comptroller', 'computer', 'computing', 'con', 'concede', 'conceded', 'concentrate', 'concept', 'concern', 'concerned', 'concessions', 'concluded', 'concrete', 'condition', 'conduct', 'conducted', 'conference', 'confidence', 'confident', 'confirm', 'confirmed', 'conflict', 'confusion', 'congress', 'congressional', 'congressman', 'conn.', 'connaught', 'connecticut', 'consecutive', 'consent', 'consequence', 'conservative', 'consider', 'consideration', 'considered', 'consist', 'consistently', 'consolidated', 'constitutional', 'construction', 'consult', 'consultant', 'consumer', 'contain', 'contend', 'continental', 'continue', 'continued', 'continuing', 'contra', 'contract', 'contractor', 'contrary', 'contrast', 'contribute', 'contributed', 'contribution', 'control', 'controlled', 'controlling', 'conventional', 'convert', 'converted', 'convertible', 'convicted', 'cook', 'cooperation', 'coopers', 'copper', 'core', 'corn', 'corner', 'corp', 'corp.', 'corporate', 'corporation', 'correction', 'cost', 'costa', 'costly', 'could', 'council', 'counsel', 'count', 'counterpart', 'countries', 'country', 'county', 'coup', 'couple', 'coupon', 'course', 'court', 'courter', 'cover', 'coverage', 'covered', 'covert', 'crack', 'crash', 'create', 'created', 'creative', 'credit', 'credit-card', 'creditor', 'crew', 'crime', 'criminal', 'critic', 'critical', 'criticism', 'criticized', 'cross', 'crucial', 'cuba', 'culture', 'cup', 'curb', 'currencies', 'currency', 'current', 'currently', 'curtail', 'curve', 'customer', 'cut', 'cuts', 'cutting', 'cycle', 'd.', 'd.c.', 'daily', 'daiwa', 'dallas', 'daly', 'damage', 'damaged', 'dan', 'danger', 'dark', 'data', 'date', 'david', 'davis', 'day', 'days', 'de', 'dead', 'deadline', 'deal', 'dealer', 'dean', 'death', 'debacle', 'debate', 'debenture', 'debt', 'dec', 'decade', 'december', 'decide', 'decided', 'decision', 'declared', 'decline', 'declined', 'declining', 'decrease', 'deduction', 'default', 'defeat', 'defend', 'defendant', 'defense', 'defensive', 'deficit', 'deficit-reduction', 'defined', 'definition', 'definitive', 'degree', 'delaware', 'delay', 'delayed', 'delegate', 'deliver', 'delivered', 'delivery', 'dell', 'della', 'deloitte', 'delta', 'demand', 'democracy', 'democrat', 'democratic', 'denied', 'department', 'depend', 'deposit', 'depreciation', 'depressed', 'deputy', 'describe', 'described', 'design', 'designated', 'designed', 'desire', 'despite', 'detail', 'detailed', 'detectors', 'determine', 'determined', 'develop', 'developed', 'developer', 'development', 'device', 'devoe', 'dictator', 'did', 'die', 'died', 'diego', 'difference', 'different', 'difficult', 'difficulty', 'digital', 'diplomat', 'direct', 'direction', 'directly', 'director', 'disappoint', 'disappointment', 'disaster', 'disclose', 'disclosed', 'disclosure', 'discontinued', 'discount', 'discovision', 'discuss', 'discussed', 'discussion', 'disk', 'dismissed', 'disney', 'dispatched', 'display', 'dispute', 'distribute', 'distributed', 'distribution', 'distributor', 'district', 'divided', 'dividend', 'division', 'do', 'doctor', 'document', 'doe', 'dollar', 'domestic', 'dominated', 'donald', 'donaldson', 'done', 'door', 'double', 'doubled', 'doubt', 'dow', 'down', 'downtown', 'downturn', 'dozen', 'dr.', 'drain', 'draw', 'dream', 'drew', 'drexel', 'dreyfus', 'drink', 'drive', 'driven', 'driving', 'drop', 'dropped', 'drug', 'dubbed', 'due', 'during', 'dutch', 'dwellings', 'dynamic', 'e-mail', 'e.', 'each', 'eager', 'eagle', 'earlier', 'early', 'earn', 'earned', 'earning', 'earth', 'earthquake', 'ease', 'easier', 'easily', 'east', 'eastern', 'easy', 'ec', 'economic', 'economist', 'economy', 'edge', 'edged', 'edition', 'editor', 'editorial', 'education', 'edward', 'effect', 'effective', 'efficient', 'effort', 'egg', 'eggs', 'either', 'el', 'elaborate', 'elderly', 'elected', 'election', 'electric', 'electronic', 'element', 'eliminate', 'else', 'elsewhere', 'emerge', 'emergency', 'empire', 'employee', 'employer', 'employment', 'enable', 'enacted', 'encourage', 'encouraged', 'end', 'ended', 'energy', 'enforcement', 'engineer', 'england', 'enhanced', 'enjoy', 'enormous', 'enough', 'ensure', 'enter', 'entered', 'enterprise', 'entertainment', 'entire', 'entirely', 'entrepreneur', 'environment', 'environmental', 'environmentalists', 'epicenter', 'equal', 'equipment', 'equities', 'equity', 'equivalent', 'error', 'especially', 'essential', 'essentially', 'establish', 'established', 'estate', 'estimate', 'estimated', 'eurocom', 'europe', 'european', 'evaluation', 'evan', 'even', 'event', 'eventually', 'ever', 'every', 'everyone', 'everything', 'evidence', 'exactly', 'example', 'exceed', 'exceeded', 'except', 'excess', 'exchange', 'exclude', 'excluding', 'exclusion', 'exclusive', 'executive', 'exercise', 'exist', 'expand', 'expanded', 'expansion', 'expect', 'expectations', 'expected', 'expenditure', 'expense', 'expensive', 'experiment', 'expert', 'expiration', 'expire', 'explain', 'export', 'exposure', 'express', 'expressed', 'extend', 'extended', 'extension', 'extent', 'extra', 'extraordinary', 'extremely', 'eye', 'f.', 'face', 'faced', 'facilities', 'facility', 'facing', 'fact', 'factor', 'factories', 'factory', 'fail', 'failed', 'failure', 'fairly', 'falconbridge', 'fall', 'fallen', 'familiar', 'families', 'family', 'fannie', 'far', 'fare', 'fargo', 'farm', 'farmer', 'fashion', 'fast', 'fast-food', 'faster', 'father', 'favor', 'favorable', 'favorite', 'fda', 'fear', 'feared', 'feature', 'february', 'fed', 'federal', 'feed', 'feedlot', 'feel', 'fees', 'feet', 'fell', 'fellow', 'felt', 'fema', 'femina', 'fend', 'few', 'fewer', 'fiduciary', 'field', 'fifth', 'fight', 'figure', 'file', 'filed', 'filing', 'fill', 'filled', 'film', 'final', 'finally', 'finance', 'financial', 'financial-services', 'financially', 'financier', 'financing', 'find', 'fine', 'finish', 'finished', 'fire', 'fired', 'firm', 'first', 'fiscal', 'fit', 'fitzwater', 'fixed', 'fixed-rate', 'fla.', 'flag', 'flat', 'fleet', 'flight', 'floor', 'florida', 'florio', 'flow', 'fly', 'focus', 'follow', 'followed', 'food', 'foot', 'for', 'force', 'forced', 'ford', 'forecast', 'foreign', 'foreigners', 'forest', 'form', 'formal', 'formally', 'formed', 'former', 'formerly', 'formula', 'forward', 'found', 'foundation', 'founder', 'fourth', 'fourth-quarter', 'fox', 'franc', 'france', 'franchise', 'franchisee', 'franchiser', 'francis', 'francisco', 'franco', 'frank', 'frankfurt', 'fraud', 'freddie', 'frederick', 'free', 'freedom', 'freeman', 'freeway', 'freight', 'french', 'frequently', 'fresh', 'friday', 'friend', 'friendly', 'from', 'front', 'fruit', 'fuel', 'full', 'full-year', 'fully', 'function', 'fund', 'fundamental', 'fur', 'furrier', 'furs', 'further', 'fusion', 'future', 'g.', 'gain', 'gained', 'galileo', 'game', 'gandhi', 'gap', 'gary', 'gas', 'gasoline', 'gaubert', 'gave', 'ge', 'gen.', 'general', 'generally', 'generate', 'generation', 'george', 'georgia', 'georgia-pacific', 'german', 'germany', 'get', 'gets', 'getting', 'giant', 'gift', 'gin', 'ginnie', 'give', 'given', 'giving', 'glass', 'global', 'globe', 'gm', 'gnp', 'go', 'goal', 'goes', 'gold', 'goldberg', 'golden', 'goldman', 'goldsmith', 'gone', 'good', 'gop', 'gorbachev', 'got', 'gov.', 'government', 'governor', 'gradually', 'grain', 'grand', 'grant', 'granted', 'graphics', 'great', 'greater', 'greatest', 'greatly', 'green', 'grew', 'grip', 'gross', 'ground', 'group', 'grow', 'grown', 'growth', 'gte', 'guarantee', 'guaranteed', 'guard', 'guber', 'guerrilla', 'guide', 'guideline', 'guilty', 'gum', 'guy', 'guys', 'guzman', 'gyrations', 'h&r', 'h.', 'had', 'half', 'hall', 'halt', 'hand', 'handful', 'handle', 'handling', 'hang', 'hanover', 'happen', 'happened', 'hard', 'harder', 'hardly', 'hardware', 'harold', 'harry', 'has', 'hasbro', 'haskins', 'hastings', 'have', 'having', 'hbo', 'he', 'head', 'headed', 'headquarters', 'health', 'health-care', 'healthvest', 'healthy', 'hear', 'heard', 'hearing', 'heart', 'heat', 'heavily', 'heavy', 'held', 'helmsley', 'help', 'helped', 'her', 'herd', 'here', 'hewlett-packard', 'high', 'high-grade', 'high-risk', 'high-yield', 'higher', 'highest', 'highly', 'highway', 'hill', 'him', 'himself', 'hire', 'hired', 'his', 'hispanic', 'history', 'hit', 'hits', 'hold', 'holder', 'holding', 'holiday', 'hollywood', 'holmes', 'home', 'homeowner', 'honecker', 'hong', 'hooker', 'hope', 'horrible', 'hospital', 'hospitalization', 'hostile', 'hot', 'hotel', 'hour', 'house', 'house-senate', 'household', 'housing', 'houston', 'how', 'however', 'hud', 'huge', 'hugo', 'human', 'hundred', 'hungary', 'hunt', 'hunter', 'hurricane', 'hurt', 'husband', 'hutchinson', 'hutton', 'i', 'ibm', 'idea', 'identify', 'idle', 'if', 'ii', 'iii', 'illegal', 'illinois', 'illustration', 'image', 'imf', 'immediate', 'immediately', 'impact', 'impeachment', 'imperial', 'implication', 'import', 'importance', 'important', 'imported', 'imposed', 'impossible', 'impressed', 'improve', 'improved', 'improvement', 'in', 'inc', 'inc.', 'incentive', 'incest', 'include', 'included', 'including', 'income', 'increase', 'increased', 'increasing', 'increasingly', 'indeed', 'independence', 'independent', 'index', 'india', 'indian', 'indicate', 'indicated', 'indicating', 'indication', 'indictment', 'individual', 'industrial', 'industrie', 'industry', 'infected', 'inflation', 'influence', 'information', 'initial', 'initially', 'initiative', 'inside', 'insider', 'insist', 'instance', 'instead', 'institute', 'institution', 'institutional', 'instruction', 'instrument', 'insurance', 'insured', 'insurer', 'integrated', 'intel', 'intelligence', 'intend', 'intended', 'interest', 'interest-rate', 'interested', 'internal', 'international', 'interpreted', 'interstate', 'interview', 'into', 'introduce', 'introduced', 'invest', 'invested', 'investigation', 'investigator', 'investment', 'investor', 'invited', 'involve', 'involved', 'involvement', 'involving', 'iras', 'irs', 'is', 'island', 'isler', 'issuance', 'issue', 'issued', 'issuer', 'it', 'italy', 'item', 'its', 'itself', 'j.', 'jack', 'jacket', 'jackson', 'jaguar', 'jal', 'james', 'january', 'japan', 'japanese', 'jeep', 'jeffrey', 'jerry', 'jersey', 'jewelers', 'job', 'jobs', 'john', 'johnson', 'join', 'joint', 'jointly', 'jones', 'jose', 'journal', 'jr.', 'judge', 'judgment', 'july', 'jump', 'jumped', 'june', 'junk', 'junk-bond', 'jupiter', 'jury', 'just', 'justice', 'kabul', 'katz', 'kean', 'keating', 'keep', 'kemp', 'kentucky', 'kept', 'key', 'khmer', 'kidder', 'kids', 'kill', 'kim', 'kind', 'king', 'knew', 'knock', 'know', 'known', 'kong', 'krenz', 'l.', 'l.j.', 'la', 'labor', 'laboratories', 'laboratory', 'lack', 'lambert', 'land', 'large', 'largely', 'larger', 'largest', 'las', 'last', 'late', 'later', 'latest', 'latin', 'launch', 'launched', 'law', 'lawmaker', 'lawrence', 'laws', 'lawson', 'lawsuit', 'lawyer', 'lbo', 'lbos', 'lead', 'leader', 'leadership', 'league', 'leap', 'learn', 'learned', 'leasing', 'least', 'leave', 'leaving', 'led', 'lee', 'left', 'legal', 'legislation', 'legislative', 'legislator', 'legislature', 'lehman', 'lend', 'lender', 'less', 'less-developed', 'let', 'letter', 'level', 'leveraged', 'levine', 'liability', 'liberal', 'license', 'lies', 'life', 'lift', 'light', 'like', 'likely', 'lilly', 'limit', 'limited', 'lin', 'lincoln', 'line', 'link', 'linked', 'liquidity', 'liquor', 'list', 'listed', 'listen', 'litigation', 'little', 'live', 'living', 'load', 'loan', 'loan-loss', 'lobby', 'lobbyist', 'local', 'location', 'lock', 'lockheed', 'london', 'long', 'long-term', 'longer', 'look', 'looked', 'loral', 'lorenzo', 'los', 'lose', 'loser', 'losses', 'lost', 'lot', 'lotus', 'louis', 'louisville', 'low', 'lower', 'lowered', 'lowest', 'loyal', 'loyalty', 'ltd', 'ltd.', 'lufkin', 'lufthansa', 'lunch', 'lung-cancer', 'luxury', 'lynch', 'm.', 'mac', 'machine', 'machinery', 'made', 'mae', 'magazine', 'mail', 'main', 'mainframe', 'mainly', 'maintain', 'maintained', 'maintenance', 'major', 'majority', 'make', 'maker', 'making', 'malaysia', 'male', 'man', 'manage', 'managed', 'management', 'manager', 'managing', 'maneuver', 'manhattan', 'manufacture', 'manufacturer', 'manufacturing', 'many', 'march', 'margin', 'marina', 'mark', 'market', 'marketer', 'marlowe', 'married', 'marshall', 'martin', 'maryland', 'mason', 'mass', 'mass.', 'massive', 'match', 'matched', 'material', 'mattel', 'matter', 'mature', 'maturity', 'maximum', 'may', 'maybe', 'maynard', 'mayor', 'mca', 'mccaw', 'mcdonald', 'md.', 'me', 'mean', 'meanwhile', 'measure', 'measured', 'media', 'median', 'medical', 'medicine', 'meet', 'member', 'membership', 'memory', 'men', 'merchandise', 'merck', 'mercury', 'merely', 'merge', 'merged', 'merger', 'meridian', 'merksamer', 'merkur', 'merrill', 'message', 'messrs.', 'met', 'metal', 'metric', 'mexico', 'mgm', 'miami', 'michael', 'microsoft', 'middle', 'middlemen', 'might', 'milan', 'mile', 'military', 'mill', 'million', 'mind', 'mine', 'minimum', 'mining', 'minister', 'ministry', 'minneapolis', 'minor', 'minority', 'minpeco', 'minute', 'mips', 'miss', 'missile', 'missouri', 'mistake', 'mitchell', 'mitsubishi', 'mixed', 'model', 'moderate', 'moderately', 'modern', 'modest', 'moment', 'monday', 'monetary', 'money', 'money-market', 'monitor', 'month', 'monthly', 'mood', 'moody', 'more', 'moreover', 'morgan', 'morning', 'morris', 'mortality', 'mortgage', 'moscow', 'most', 'mostly', 'mother', 'motor', 'mountain', 'move', 'moved', 'movement', 'movie', 'moving', 'mr.', 'mrs.', 'ms.', 'much', 'municipal', 'mural', 'murata', 'must', 'mutual', 'mutual-fund', 'my', \"n't\", 'n.j.', 'n.y.', 'name', 'named', 'narrow', 'narrowed', 'narrowly', 'nasa', 'nasdaq', 'nation', 'national', 'nationwide', 'natural', 'naturally', 'nature', 'natwest', 'navy', 'nbc', 'near', 'nearly', 'neb.', 'necessarily', 'necessary', 'need', 'needed', 'needham', 'negative', 'negotiating', 'negotiation', 'neighbor', 'neither', 'nelson', 'nervous', 'net', 'network', 'neutron', 'never', 'nevertheless', 'new', 'newer', 'newly', 'newport', 'news', 'newsletter', 'newspaper', 'next', 'nguyen', 'nicaragua', 'nicaraguan', 'night', 'nikkei', 'no', 'no.', 'nobody', 'none', 'nonperforming', 'nonrecurring', 'noon', 'nor', 'noranda', 'noriega', 'normal', 'normally', 'north', 'northern', 'northwest', 'not', 'note', 'noted', 'nothing', 'notice', 'noticed', 'notification', 'notion', 'novel', 'november', 'now', 'nuclear', 'nugget', 'number', 'oakland', 'objective', 'obligation', 'observer', 'obtain', 'obvious', 'obviously', 'occasion', 'occur', 'occurred', 'october', 'odd', 'odeon', 'of', 'off', 'offer', 'offered', 'offering', 'office', 'officer', 'official', 'offset', 'often', 'ohio', 'oil', 'old', 'older', 'olivetti', 'on', 'once', 'ones', 'only', 'onto', 'open', 'opened', 'openness', 'operate', 'operating', 'operation', 'operator', 'opinion', 'opponent', 'opportunities', 'opportunity', 'oppose', 'opposed', 'opposition', 'optimistic', 'option', 'or', 'orange', 'order', 'ordered', 'ordinary', 'organization', 'original', 'originally', 'otc', 'other', 'otherwise', 'ought', 'ounce', 'our', 'oust', 'out', 'outlets', 'outlook', 'output', 'outside', 'outstanding', 'over', 'over-the-counter', 'overall', 'overhaul', 'overhead', 'overnight', 'overseas', 'overtime', 'own', 'owned', 'owner', 'ownership', 'p&g', 'p.m.', 'pace', 'pacific', 'package', 'packwood', 'pact', 'page', 'paid', 'painewebber', 'paint', 'panama', 'panamanian', 'panel', 'panic', 'paper', 'par', 'paramount', 'parent', 'paribas', 'paris', 'park', 'parliament', 'part', 'partial', 'participant', 'participate', 'particular', 'particularly', 'parties', 'partly', 'partner', 'partnership', 'party', 'pass', 'passed', 'passenger', 'passive', 'passwords', 'past', 'patent', 'path', 'patient', 'pattern', 'paul', 'pay', 'payable', 'payment', 'payroll', 'peabody', 'peak', 'pemex', 'pence', 'pencil', 'pending', 'pennsylvania', 'pension', 'pentagon', 'people', 'per', 'per-share', 'perceived', 'percentage', 'perform', 'performance', 'perhaps', 'period', 'permanent', 'permission', 'permit', 'permitted', 'person', 'personal', 'personnel', 'peru', 'peter', 'peterson', 'petrochemical', 'petroleum', 'pfeiffer', 'pharmaceutical', 'phase', 'phenomenon', 'philadelphia', 'philip', 'philippine', 'phoenix', 'phone', 'photo', 'pick', 'picop', 'picture', 'piece', 'pilot', 'pioneer', 'pipeline', 'pitch', 'pittsburgh', 'pizza', 'place', 'placed', 'plaintiff', 'plan', 'plane', 'planet', 'planned', 'planner', 'planning', 'plant', 'plastic', 'platinum', 'play', 'played', 'player', 'plc', 'please', 'plunge', 'plunged', 'plus', 'point', 'poland', 'polaroid', 'police', 'policies', 'policy', 'policyholder', 'politburo', 'political', 'politicians', 'politics', 'poll', 'pollution', 'poodle', 'pool', 'poor', 'poorly', 'popular', 'population', 'portfolio', 'portion', 'position', 'positive', 'possibility', 'possible', 'possibly', 'post', 'posted', 'potential', 'potentially', 'pound', 'poverty', 'power', 'powerful', 'practice', 'precious', 'predict', 'predicted', 'prefer', 'preference', 'preferred', 'pregnant', 'preliminary', 'premium', 'prepare', 'prepared', 'prescription', 'presence', 'present', 'presented', 'preserve', 'president', 'presidential', 'press', 'pressed', 'pressure', 'pretax', 'pretty', 'prevail', 'prevent', 'previous', 'previously', 'price', 'priced', 'pricing', 'primarily', 'primary', 'prime', 'prince', 'principal', 'printed', 'prior', 'priority', 'prison', 'private', 'privately', 'privatization', 'pro-choice', 'pro-life', 'probably', 'probe', 'problem', 'procedure', 'proceed', 'proceeding', 'process', 'produce', 'produced', 'producer', 'producing', 'product', 'production', 'productivity', 'professional', 'professor', 'profit', 'profitability', 'profitable', 'program', 'programming', 'progress', 'project', 'projected', 'projection', 'promise', 'promised', 'promising', 'promotion', 'prompted', 'properties', 'property', 'proposal', 'proposed', 'prosecutor', 'prospect', 'protect', 'protected', 'protection', 'protest', 'prove', 'provide', 'provided', 'providing', 'province', 'provision', 'prudential', 'prudential-bache', 'psychology', 'public', 'publication', 'publicly', 'publish', 'published', 'publisher', 'puerto', 'pull', 'pulled', 'pulp', 'pump', 'purchase', 'purchased', 'purchasing', 'purpose', 'pursue', 'pursuing', 'pursuit', 'push', 'pushed', 'put', 'puts', 'putting', 'quake', 'qualify', 'quality', 'quantities', 'quantum', 'quarter', 'quarterly', 'question', 'questioned', 'quick', 'quickly', 'quiet', 'quite', 'quoted', 'r.', 'race', 'radical', 'radio', 'raider', 'rail', 'railroad', 'raise', 'raised', 'raising', 'rallied', 'rally', 'ralph', 'ran', 'range', 'rape', 'rapid', 'rapidly', 'rate', 'rather', 'rating', 'ratio', 'raymond', 'reach', 'reached', 'reacted', 'reaction', 'read', 'reader', 'ready', 'reagan', 'real', 'real-estate', 'reality', 'realize', 'realized', 'really', 'reason', 'rebel', 'recall', 'receipts', 'receive', 'received', 'receiving', 'recent', 'recently', 'recession', 'recommended', 'record', 'recorded', 'recover', 'recovered', 'recovery', 'red', 'redemption', 'reduce', 'reduced', 'reducing', 'reduction', 'referring', 'refinancing', 'refinery', 'reflect', 'reflected', 'reform', 'refund', 'refuse', 'refused', 'regard', 'regime', 'region', 'regional', 'registered', 'regret', 'regular', 'regulation', 'regulator', 'regulatory', 'reinsurance', 'rejected', 'related', 'relating', 'relation', 'relationship', 'relative', 'relatively', 'release', 'released', 'relief', 'reluctant', 'rely', 'remain', 'remained', 'remark', 'remember', 'remic', 'remove', 'renault', 'renewed', 'reorganization', 'rep.', 'repair', 'repeal', 'replace', 'report', 'reported', 'reportedly', 'reporter', 'represent', 'representative', 'represented', 'republic', 'republican', 'repurchase', 'reputable', 'request', 'requested', 'require', 'required', 'requirement', 'requiring', 'rescue', 'research', 'researcher', 'reservation', 'reserve', 'resident', 'resignation', 'resigned', 'resistance', 'resolution', 'resort', 'resource', 'respond', 'respondents', 'response', 'responsibility', 'responsible', 'rest', 'restaurant', 'restoration', 'restore', 'restricted', 'restriction', 'restructuring', 'result', 'resulted', 'resume', 'retail', 'retailer', 'retain', 'retire', 'retirement', 'return', 'returned', 'reuter', 'revenue', 'reverse', 'review', 'revised', 'revive', 'revolution', 'reward', 'rich', 'richard', 'richmond', 'richter', 'rico', 'rid', 'ride', 'rider', 'right', 'ring', 'rise', 'rising', 'risk', 'risky', 'rival', 'road', 'roadway', 'robert', 'rock', 'roger', 'role', 'roll', 'room', 'rose', 'rosen', 'ross', 'rouge', 'roughly', 'round', 'route', 'row', 'royal', 'rule', 'ruled', 'ruling', 'rumor', 'run', 'running', 'runs', 'ruvolo', 's', 's&p', 's.a.', 'saab', 'sachs', 'sacramento', 'safe', 'safety', 'said', 'salary', 'sale', 'salesmen', 'salmonella', 'salomon', 'same', 'san', 'sandinista', 'sanford', 'santa', 'sat', 'saturday', 'savaiko', 'save', 'saving', 'saw', 'say', 'scale', 'scam', 'scandal', 'scene', 'schedule', 'scheduled', 'scheme', 'school', 'schwartz', 'scientist', 'score', 'scorpio', 'scrap', 'screen', 'sdi', 'search', 'sears', 'season', 'seat', 'seattle', 'sec', 'second', 'secondary', 'secret', 'secretary', 'section', 'sector', 'secured', 'securities', 'security', 'see', 'seek', 'seem', 'seemed', 'seen', 'segment', 'seidman', 'selected', 'selection', 'sell', 'seller', 'semel', 'semiconductor', 'senate', 'senator', 'send', 'senior', 'sense', 'sensitive', 'sent', 'separate', 'separately', 'september', 'series', 'serious', 'seriously', 'serve', 'served', 'service', 'serving', 'session', 'set', 'setback', 'sets', 'setting', 'settle', 'settled', 'settlement', 'several', 'severe', 'sex', 'shape', 'share', 'shareholder', 'sharp', 'sharply', 'she', 'shearson', 'sheet', 'shell', 'shelter', 'shield', 'shift', 'ship', 'shipment', 'shippers', 'shipping', 'shock', 'shoe', 'shop', 'shopping', 'short', 'short-term', 'shortage', 'shortly', 'shot', 'should', 'show', 'showed', 'showtime', 'shut', 'shutdown', 'shuttle', 'side', 'sideline', 'sign', 'signal', 'signed', 'significant', 'significantly', 'silver', 'similar', 'simple', 'simply', 'since', 'sing', 'singapore', 'single', 'sir', 'sit', 'site', 'sitting', 'situation', 'size', 'ski', 'skier', 'skinner', 'sleep', 'slid', 'slide', 'slight', 'slightly', 'slipped', 'slow', 'slowdown', 'slowed', 'slower', 'sluggish', 'slump', 'small', 'smaller', 'smart', 'smith', 'smoke', 'smoking', 'snapped', 'so', 'so-called', 'soar', 'soared', 'social', 'societe', 'society', 'soft', 'software', 'sold', 'sole', 'solicit', 'solicitation', 'solid', 'solution', 'some', 'someone', 'something', 'sometime', 'somewhat', 'son', 'sons', 'sony', 'soo', 'soon', 'sophisticated', 'sort', 'sought', 'sound', 'source', 'south', 'southern', 'soviet', 'soybean', 'space', 'spain', 'span', 'spanish', 'speak', 'speaker', 'special', 'specialist', 'specialty', 'specific', 'specifically', 'specified', 'speculation', 'speculator', 'speech', 'speed', 'spend', 'spent', 'spin', 'spirit', 'split', 'spokesman', 'spokeswoman', 'sponsor', 'sport', 'spot', 'spread', 'spring', 'square', 'squeeze', 'squeezed', 'st.', 'staff', 'stage', 'stake', 'stance', 'stand', 'standard', 'stanley', 'star', 'start', 'start-up', 'started', 'state', 'statement', 'station', 'status', 'statute', 'stay', 'stayed', 'steady', 'steal', 'steel', 'steelmaker', 'steep', 'steinhardt', 'stem', 'step', 'stephen', 'stepped', 'sterling', 'steven', 'stick', 'still', 'stock', 'stock-index', 'stock-market', 'stockholm', 'stone', 'stood', 'stop', 'stopped', 'storage', 'store', 'stories', 'storm', 'story', 'strain', 'strategies', 'strategist', 'strategy', 'street', 'strength', 'stress', 'stress-related', 'strike', 'strong', 'stronger', 'strongest', 'struck', 'structural', 'structure', 'struggle', 'student', 'studied', 'studies', 'studio', 'study', 'style', 'subject', 'submit', 'submitted', 'subordinated', 'subscriber', 'subsequent', 'subsidiary', 'substantial', 'substantially', 'succeed', 'success', 'successful', 'successor', 'such', 'sudden', 'sued', 'suffer', 'suffered', 'sufficient', 'suggest', 'suggested', 'suggestion', 'suit', 'sullivan', 'summer', 'sun', 'sunday', 'supermarket', 'supervisor', 'supplies', 'supply', 'support', 'supported', 'supposed', 'supreme', 'sure', 'surge', 'surged', 'surprise', 'surprising', 'surround', 'survey', 'suspended', 'suspension', 'sustained', 'swedish', 'swing', 'swiss', 'switzerland', 'symbol', 'syndicate', 'system', 'table', 'take', 'taken', 'takeover', 'taking', 'talk', 'tandem', 'tank', 'tape', 'target', 'task', 'tax', 'tax-free', 'taxable', 'taxes', 'taxpayer', 'tci', 'team', 'technical', 'technologies', 'technology', 'telecommunications', 'telegraph', 'telephone', 'telesis', 'television', 'tell', 'temblor', 'temporarily', 'temporary', 'tend', 'tender', 'term', 'terminal', 'test', 'texan', 'texas', 'than', 'that', 'the', 'their', 'them', 'themselves', 'then', 'theory', 'there', 'thereafter', 'these', 'they', 'thi', 'thin', 'thing', 'think', 'third', 'third-quarter', 'thomas', 'thompson', 'those', 'though', 'thought', 'thousand', 'threat', 'threaten', 'threatened', 'thrift', 'through', 'throughout', 'throw', 'thursday', 'thus', 'ticket', 'ties', 'tight', 'tighten', 'tim', 'time', 'tire', 'title', 'to', 'tobacco', 'today', 'together', 'tokyo', 'told', 'toll', 'tomorrow', 'tons', 'too', 'took', 'tool', 'top', 'topic', 'topped', 'torrijos', 'total', 'totaled', 'tough', 'toward', 'tower', 'town', 'track', 'trade', 'traded', 'trader', 'trading', 'traditional', 'traditionally', 'traffic', 'trail', 'train', 'transaction', 'transfer', 'translated', 'transport', 'transportation', 'travel', 'traveler', 'treasury', 'treatment', 'trelleborg', 'tremor', 'trend', 'trial', 'tried', 'trigger', 'trinova', 'trip', 'tritium', 'troop', 'trouble', 'troubled', 'truck', 'true', 'trump', 'trust', 'truth', 'try', 'tuesday', 'tuition', 'tumbled', 'turkey', 'turn', 'turned', 'turner', 'tv', 'tva', 'twice', 'type', 'typically', 'u', 'u.k.', 'u.s.', 'ual', 'ultimately', 'unable', 'uncertainty', 'unchanged', 'unclear', 'under', 'underlying', 'understand', 'underwriter', 'unemployment', 'unfair', 'uniform', 'unilab', 'union', 'unit', 'united', 'universal', 'university', 'unless', 'unlike', 'unlikely', 'unrelated', 'until', 'unusual', 'unusually', 'unveil', 'unveiled', 'up', 'upheaval', 'upon', 'upward', 'urban', 'urge', 'urged', 'us', 'us$', 'usa', 'usair', 'use', 'used', 'useful', 'user', 'usual', 'usually', 'utilities', 'utility', 'utilization', 'v.', 'vaccine', 'valley', 'valuable', 'value', 'valued', 'van', 'variations', 'variety', 'various', 'vary', 'vast', 'vault', 'vega', 'vehicle', 'venture', 'version', 'verwoerd', 'very', 'veteran', 'veto', 'via', 'viacom', 'vice', 'victim', 'victory', 'video', 'vietnam', 'vietnamese', 'view', 'violation', 'virginia', 'virtually', 'virus', 'visible', 'visit', 'visitor', 'volatile', 'volatility', 'volume', 'vote', 'voted', 'voter', 'voting', 'vulnerable', 'w.', 'wage', 'wait', 'wake', 'walk', 'walker', 'wall', 'walter', 'want', 'wanted', 'war', 'warm', 'warn', 'warned', 'warner', 'warner-lambert', 'warren', 'washington', 'waste', 'watch', 'watched', 'water', 'wave', 'way', 'ways', 'wcrs', 'we', 'weak', 'weaker', 'weakness', 'weapon', 'wear', 'weather', 'webster', 'wednesday', 'week', 'weekend', 'weekly', 'weight', 'well', 'well-known', 'went', 'west', 'western', 'what', 'whatever', 'when', 'where', 'whether', 'which', 'while', 'whitbread', 'white', 'who', 'whole', 'wholesale', 'whom', 'whose', 'why', 'wide', 'widely', 'widened', 'wider', 'widespread', 'widow', 'wife', 'will', 'william', 'win', 'wind', 'window', 'wine', 'winner', 'winning', 'winter', 'wire', 'wish', 'with', 'withdrawal', 'withdrew', 'within', 'without', 'witter', 'wo', 'woman', 'women', 'won', 'wonder', 'wood', 'word', 'work', 'worked', 'worker', 'workstation', 'world', 'world-wide', 'worm', 'worried', 'worry', 'worst', 'worth', 'would', 'write', 'writer', 'written', 'wrong', 'wrote', 'yacht', 'year', 'year-ago', 'year-earlier', 'yen', 'yesterday', 'yet', 'yield', 'york', 'you', 'young', 'younger', 'your', 'zealand']\n"
     ]
    }
   ],
   "source": [
    "print(x_vocab)"
   ]
  },
  {
   "cell_type": "code",
   "execution_count": 6,
   "metadata": {},
   "outputs": [],
   "source": [
    "transition_pairs = transition.generate_transition_pairs(lines)"
   ]
  },
  {
   "cell_type": "code",
   "execution_count": 7,
   "metadata": {},
   "outputs": [],
   "source": [
    "y_pairs = transition_pairs[\"Y_pairs\"]\n",
    "y_vocab = transition_pairs[\"y_vocab\"]\n",
    "y_freq = transition_pairs[\"y_freq\"]"
   ]
  },
  {
   "cell_type": "code",
   "execution_count": 8,
   "metadata": {},
   "outputs": [],
   "source": [
    "transition_data = transition.generate_transition_data(y_pairs, y_vocab)"
   ]
  },
  {
   "cell_type": "code",
   "execution_count": 9,
   "metadata": {},
   "outputs": [],
   "source": [
    "hmm = viterbi.HMM()\n",
    "hmm.fit_word_tokenizer(x_vocab)\n",
    "hmm.fit_pos_tokenizer(y_vocab)\n",
    "hmm.build_transition_weights(y_freq, transition_data)\n",
    "hmm.build_emission_weights(emission_data)"
   ]
  },
  {
   "cell_type": "code",
   "execution_count": 10,
   "metadata": {},
   "outputs": [],
   "source": [
    "train_data = dataset_folder + \"dev.in\"\n",
    "lines = utils.read_file_to_lines(train_data)\n",
    "\n",
    "sentences = []\n",
    "\n",
    "while len(lines) > 1:\n",
    "    sentence_break = lines.index(\"\")\n",
    "    sentence_xy = lines[:sentence_break]\n",
    "    words = [utils.preprocess_text(token,\n",
    "                                   lower=LOWER,\n",
    "                                   norm_tense=NORM_TENSE,\n",
    "                                   replace_number=REP_NUM,\n",
    "                                   replace_year=REP_YEAR,\n",
    "                                   replace_symbol=REP_SYM)\n",
    "             for token in sentence_xy]\n",
    "    sentence = \" \".join(words).strip()\n",
    "    sentences.append(sentence)\n",
    "    lines = lines[sentence_break+1:]"
   ]
  },
  {
   "cell_type": "code",
   "execution_count": 11,
   "metadata": {},
   "outputs": [
    {
     "name": "stdout",
     "output_type": "stream",
     "text": [
      "New words 2199\n"
     ]
    }
   ],
   "source": [
    "new_words = []\n",
    "\n",
    "for line in sentences:\n",
    "    for word in line.split(\" \"):\n",
    "        if word not in x_vocab:\n",
    "            new_words.append(word)\n",
    "        \n",
    "new_words = list(set(new_words))\n",
    "new_words.sort()\n",
    "print(\"New words\", len(new_words))"
   ]
  },
  {
   "cell_type": "code",
   "execution_count": 12,
   "metadata": {},
   "outputs": [
    {
     "name": "stderr",
     "output_type": "stream",
     "text": [
      "  0%|          | 0/1094 [00:00<?, ?it/s]"
     ]
    }
   ],
   "source": [
    "# only for the progress bar!\n",
    "try:\n",
    "    from tqdm import tqdm\n",
    "    USE_TQDM = True\n",
    "except Exception as e:\n",
    "    print(e, \"TQDM import error, disable progress bar\")\n",
    "\n",
    "if USE_TQDM:\n",
    "    sentences_it = tqdm(sentences)\n",
    "else:\n",
    "    sentences_it = sentences"
   ]
  },
  {
   "cell_type": "code",
   "execution_count": 13,
   "metadata": {},
   "outputs": [
    {
     "name": "stderr",
     "output_type": "stream",
     "text": [
      "100%|██████████| 1094/1094 [00:32<00:00, 33.79it/s]\n"
     ]
    }
   ],
   "source": [
    "preds = []\n",
    "\n",
    "for line in sentences_it:\n",
    "    pred = hmm.viterbi_predict(line)\n",
    "    pred = hmm.pos_tokens_to_labels(pred)\n",
    "    preds.append(pred)\n",
    "    \n",
    "assert len(sentences) == len(preds)"
   ]
  },
  {
   "cell_type": "code",
   "execution_count": 14,
   "metadata": {},
   "outputs": [],
   "source": [
    "outfile = dataset_folder + \"dev.p5.out\"\n",
    "\n",
    "with open(outfile, \"w\") as f:\n",
    "    for sentence, pred in zip(sentences, preds):\n",
    "        word_array = sentence.split(\" \")\n",
    "        try:\n",
    "            assert len(word_array) == len(pred)\n",
    "            for i, word in enumerate(word_array):\n",
    "                f.write(word + \" \" + pred[i] +\"\\n\")\n",
    "        except:\n",
    "            print(word_array)\n",
    "            print(pred)\n",
    "            break\n",
    "        f.write(\"\\n\")"
   ]
  },
  {
   "cell_type": "code",
   "execution_count": 15,
   "metadata": {},
   "outputs": [
    {
     "name": "stdout",
     "output_type": "stream",
     "text": [
      "Entity F: 0.8396\n",
      "Sentiment F: 0.8096\n"
     ]
    }
   ],
   "source": [
    "gold_data = dataset_folder + \"dev.out\"\n",
    "pred_data = dataset_folder + \"dev.p5.out\"\n",
    "\n",
    "data = utils.run_eval(gold_data, pred_data)\n",
    "\n",
    "print(\"Entity F:\", data[\"entity_f\"])\n",
    "print(\"Sentiment F:\", data[\"sentiment_f\"])"
   ]
  },
  {
   "cell_type": "code",
   "execution_count": null,
   "metadata": {},
   "outputs": [],
   "source": []
  }
 ],
 "metadata": {
  "kernelspec": {
   "display_name": "Python 3",
   "language": "python",
   "name": "python3"
  },
  "language_info": {
   "codemirror_mode": {
    "name": "ipython",
    "version": 3
   },
   "file_extension": ".py",
   "mimetype": "text/x-python",
   "name": "python",
   "nbconvert_exporter": "python",
   "pygments_lexer": "ipython3",
   "version": "3.6.6"
  }
 },
 "nbformat": 4,
 "nbformat_minor": 4
}
